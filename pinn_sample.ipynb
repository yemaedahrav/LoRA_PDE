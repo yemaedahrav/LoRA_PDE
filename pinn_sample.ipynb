{
 "cells": [
  {
   "cell_type": "code",
   "execution_count": 1,
   "id": "9e4d18a6",
   "metadata": {},
   "outputs": [],
   "source": [
    "import math\n",
    "import pandas as pd\n",
    "import numpy as np\n",
    "import matplotlib.pyplot as plt\n",
    "import torch\n",
    "import torch.nn as nn\n",
    "import torch.nn.functional as F\n",
    "from torch.autograd import Variable\n",
    "device = torch.device(\"cuda:0\" if torch.cuda.is_available() else \"cpu\")"
   ]
  },
  {
   "cell_type": "code",
   "execution_count": 2,
   "id": "b36cd68d",
   "metadata": {},
   "outputs": [],
   "source": [
    "xmin = -0.5\n",
    "xmax = 1\n",
    "ymin = -0.5\n",
    "ymax = 1.5\n",
    "N = 50\n",
    "Re = 100\n",
    "nu = 1 / Re\n",
    "lamb = 1 / (2 * nu) - np.sqrt(1 / (4 * nu ** 2) + 4 * np.pi ** 2)"
   ]
  },
  {
   "cell_type": "code",
   "execution_count": 3,
   "id": "553692da",
   "metadata": {},
   "outputs": [],
   "source": [
    "x_data = np.arange(xmin, xmax, (xmax-xmin)/N)\n",
    "y_data = np.arange(ymin, ymax, (ymax-ymin)/N)\n",
    "\n",
    "#print(\"X_data: \", x_data)\n",
    "#print(\"Y_data: \", y_data)\n",
    "\n",
    "x = []\n",
    "y = []\n",
    "for i in range(N):\n",
    "    x.append(xmin)\n",
    "    y.append(y_data[i])\n",
    "    x.append(xmax)\n",
    "    y.append(y_data[i])\n",
    "    x.append(x_data[i])\n",
    "    y.append(ymin)\n",
    "    x.append(x_data[i])\n",
    "    y.append(ymax)\n",
    "\n",
    "x = np.array(x, dtype=float)\n",
    "y = np.array(y, dtype=float)\n",
    "X_bc = np.ndarray.reshape(x, (x.shape[0],1))\n",
    "Y_bc = np.ndarray.reshape(y, (y.shape[0],1))\n",
    "\n",
    "S_bc = np.zeros((4*N, 3))\n",
    "U_bc = 1-(np.exp(lamb*X_bc))*(np.cos(2*math.pi*Y_bc))\n",
    "V_bc = (lamb/(2*math.pi))*(np.exp(lamb*X_bc))*(np.sin(2*math.pi*Y_bc))\n",
    "P_bc = (1/2)*(1-(np.exp(2*lamb*X_bc)))\n",
    "S_bc[:,0:1] = np.ndarray.reshape(U_bc, (U_bc.shape[0],1))\n",
    "S_bc[:,1:2] = np.ndarray.reshape(V_bc, (V_bc.shape[0],1))\n",
    "S_bc[:,2:] = np.ndarray.reshape(P_bc, (P_bc.shape[0],1))\n",
    "#print(\"X_bc: \", X_bc.shape)\n",
    "#print(\"Y_bc: \", Y_bc.shape)\n",
    "\n",
    "# print(\"X_bc: \", x_bc)\n",
    "# print(\"Y_bc: \", y_bc)\n",
    "\n",
    "# for i in range(4*N):\n",
    "#     print(x_bc[i], \" \", y_bc[i])"
   ]
  },
  {
   "cell_type": "code",
   "execution_count": 4,
   "id": "a9230a84",
   "metadata": {},
   "outputs": [],
   "source": [
    "X_bc = Variable(torch.from_numpy(X_bc).float(), requires_grad=False).to(device)\n",
    "Y_bc = Variable(torch.from_numpy(Y_bc).float(), requires_grad=False).to(device)\n",
    "S_bc = Variable(torch.from_numpy(S_bc).float(), requires_grad=False).to(device)\n",
    "\n",
    "x = np.arange(xmin, xmax, (xmax-xmin)/N)\n",
    "y = np.arange(ymin, ymax, (ymax-ymin)/N)\n",
    "X, Y = np.meshgrid(x,y)\n",
    "X = X.flatten()[:,None]\n",
    "Y = Y.flatten()[:,None]\n",
    "S = np.zeros_like(X)\n",
    "\n",
    "X = Variable(torch.from_numpy(X).float(), requires_grad=True).to(device)\n",
    "Y = Variable(torch.from_numpy(Y).float(), requires_grad=True).to(device)\n",
    "S = Variable(torch.from_numpy(S).float(), requires_grad=False).to(device)"
   ]
  },
  {
   "cell_type": "code",
   "execution_count": 5,
   "id": "2d6fc869",
   "metadata": {},
   "outputs": [],
   "source": [
    "class PINN(nn.Module):\n",
    "    def __init__(self):\n",
    "        super(PINN, self).__init__()\n",
    "        self.layer1 = nn.Linear(2,20)\n",
    "        self.layer2 = nn.Linear(20,20)\n",
    "        self.layer3 = nn.Linear(20,20)\n",
    "        self.layer4 = nn.Linear(20,20)\n",
    "        self.layer5 = nn.Linear(20,20)\n",
    "        self.output_layer = nn.Linear(20,3)\n",
    "\n",
    "    def forward(self, x, y): \n",
    "        inputs = torch.cat([x, y], axis=1)\n",
    "        layer1_out = torch.tanh(self.layer1(inputs))\n",
    "        layer2_out = torch.tanh(self.layer2(layer1_out))\n",
    "        layer3_out = torch.tanh(self.layer3(layer2_out))\n",
    "        layer4_out = torch.tanh(self.layer4(layer3_out))\n",
    "        layer5_out = torch.tanh(self.layer5(layer4_out))\n",
    "        output = self.output_layer(layer5_out) \n",
    "        return output"
   ]
  },
  {
   "cell_type": "code",
   "execution_count": 6,
   "id": "93ccc50d",
   "metadata": {},
   "outputs": [],
   "source": [
    "pinn = PINN()\n",
    "pinn = pinn.to(device)\n",
    "mse_cost_function = nn.MSELoss() \n",
    "optimizer = torch.optim.Adam(pinn.parameters())"
   ]
  },
  {
   "cell_type": "code",
   "execution_count": 7,
   "id": "a910556a",
   "metadata": {},
   "outputs": [],
   "source": [
    "def residual(x, y, pinn):\n",
    "    s = pinn.forward(x, y)\n",
    "    u = s[:,0:1]\n",
    "    v = s[:,1:2]\n",
    "    p = s[:,2:]\n",
    "\n",
    "    du_dx = torch.autograd.grad(u.sum(), x, create_graph=True)[0]\n",
    "    dv_dx = torch.autograd.grad(v.sum(), x, create_graph=True)[0]\n",
    "    dp_dx = torch.autograd.grad(p.sum(), x, create_graph=True)[0]\n",
    "\n",
    "    du_dy = torch.autograd.grad(u.sum(), y, create_graph=True)[0]\n",
    "    dv_dy = torch.autograd.grad(v.sum(), y, create_graph=True)[0]\n",
    "    dp_dy = torch.autograd.grad(p.sum(), y, create_graph=True)[0]\n",
    "\n",
    "    du_dxx = torch.autograd.grad(du_dx.sum(), x, create_graph=True)[0]\n",
    "    dv_dxx = torch.autograd.grad(dv_dx.sum(), x, create_graph=True)[0]\n",
    "    du_dyy = torch.autograd.grad(du_dy.sum(), y, create_graph=True)[0]\n",
    "    dv_dyy = torch.autograd.grad(dv_dy.sum(), y, create_graph=True)[0]\n",
    "\n",
    "    f1 = u*du_dx + v*du_dy + dp_dx - nu*(du_dxx + du_dyy)\n",
    "    f2 = u*dv_dx + v*dv_dy + dp_dy - nu*(dv_dxx + dv_dyy)\n",
    "    f3 = du_dx + dv_dy\n",
    "    f = f1 + f2 + f3\n",
    "    return f"
   ]
  },
  {
   "cell_type": "code",
   "execution_count": 8,
   "id": "2b4ee03a",
   "metadata": {},
   "outputs": [
    {
     "name": "stdout",
     "output_type": "stream",
     "text": [
      "Iter 0, Loss: 7.9813e-01, Loss_u: 7.9797e-01, Loss_f: 1.5133e-04\n"
     ]
    },
    {
     "name": "stderr",
     "output_type": "stream",
     "text": [
      "C:\\Users\\ameyv\\anaconda3\\envs\\amey-pinn\\lib\\site-packages\\torch\\autograd\\__init__.py:197: UserWarning: grad and param do not obey the gradient layout contract. This is not an error, but may impair performance.\n",
      "grad.sizes() = [2500, 1], strides() = [1, 0]\n",
      "param.sizes() = [2500, 1], strides() = [1, 0] (Triggered internally at C:\\cb\\pytorch_1000000000000\\work\\torch/csrc/autograd/functions/accumulate_grad.h:202.)\n",
      "  Variable._execution_engine.run_backward(  # Calls into the C++ engine to run the backward pass\n"
     ]
    },
    {
     "name": "stdout",
     "output_type": "stream",
     "text": [
      "Iter 100, Loss: 1.7177e-01, Loss_u: 1.7063e-01, Loss_f: 1.1443e-03\n",
      "Iter 200, Loss: 1.5335e-01, Loss_u: 1.5308e-01, Loss_f: 2.6927e-04\n",
      "Iter 300, Loss: 1.3736e-01, Loss_u: 1.3587e-01, Loss_f: 1.4890e-03\n",
      "Iter 400, Loss: 8.6393e-02, Loss_u: 8.5657e-02, Loss_f: 7.3562e-04\n",
      "Iter 500, Loss: 7.2142e-02, Loss_u: 7.1477e-02, Loss_f: 6.6518e-04\n",
      "Iter 600, Loss: 6.3381e-02, Loss_u: 6.2773e-02, Loss_f: 6.0795e-04\n",
      "Iter 700, Loss: 2.6328e-02, Loss_u: 2.4411e-02, Loss_f: 1.9176e-03\n",
      "Iter 800, Loss: 3.8358e-03, Loss_u: 3.0956e-03, Loss_f: 7.4020e-04\n",
      "Iter 900, Loss: 2.1445e-03, Loss_u: 1.7884e-03, Loss_f: 3.5611e-04\n",
      "Iter 1000, Loss: 1.5997e-03, Loss_u: 1.3605e-03, Loss_f: 2.3921e-04\n",
      "Iter 1100, Loss: 1.2835e-03, Loss_u: 1.1089e-03, Loss_f: 1.7462e-04\n",
      "Iter 1200, Loss: 1.2128e-03, Loss_u: 9.3175e-04, Loss_f: 2.8106e-04\n",
      "Iter 1300, Loss: 9.2884e-04, Loss_u: 8.0325e-04, Loss_f: 1.2559e-04\n",
      "Iter 1400, Loss: 8.1752e-04, Loss_u: 7.0412e-04, Loss_f: 1.1340e-04\n",
      "Iter 1500, Loss: 1.0746e-03, Loss_u: 6.3800e-04, Loss_f: 4.3662e-04\n",
      "Iter 1600, Loss: 6.5264e-04, Loss_u: 5.5789e-04, Loss_f: 9.4745e-05\n",
      "Iter 1700, Loss: 7.5367e-04, Loss_u: 5.0272e-04, Loss_f: 2.5095e-04\n",
      "Iter 1800, Loss: 9.0355e-04, Loss_u: 4.7220e-04, Loss_f: 4.3135e-04\n",
      "Iter 1900, Loss: 4.9484e-04, Loss_u: 4.1954e-04, Loss_f: 7.5304e-05\n",
      "Iter 2000, Loss: 5.3208e-04, Loss_u: 3.9098e-04, Loss_f: 1.4110e-04\n",
      "Iter 2100, Loss: 4.6656e-04, Loss_u: 3.5840e-04, Loss_f: 1.0816e-04\n",
      "Iter 2200, Loss: 5.6187e-04, Loss_u: 3.4098e-04, Loss_f: 2.2089e-04\n",
      "Iter 2300, Loss: 3.7814e-04, Loss_u: 3.1351e-04, Loss_f: 6.4637e-05\n",
      "Iter 2400, Loss: 6.5101e-04, Loss_u: 3.1200e-04, Loss_f: 3.3901e-04\n",
      "Iter 2500, Loss: 3.4408e-04, Loss_u: 2.7873e-04, Loss_f: 6.5351e-05\n",
      "Iter 2600, Loss: 3.5071e-04, Loss_u: 2.6742e-04, Loss_f: 8.3288e-05\n",
      "Iter 2700, Loss: 7.9807e-04, Loss_u: 2.6619e-04, Loss_f: 5.3188e-04\n",
      "Iter 2800, Loss: 2.8544e-04, Loss_u: 2.4130e-04, Loss_f: 4.4140e-05\n",
      "Iter 2900, Loss: 2.7524e-04, Loss_u: 2.3210e-04, Loss_f: 4.3135e-05\n",
      "Iter 3000, Loss: 2.7240e-04, Loss_u: 2.2390e-04, Loss_f: 4.8499e-05\n",
      "Iter 3100, Loss: 2.6151e-04, Loss_u: 2.1582e-04, Loss_f: 4.5692e-05\n",
      "Iter 3200, Loss: 6.5937e-04, Loss_u: 2.2850e-04, Loss_f: 4.3086e-04\n",
      "Iter 3300, Loss: 4.0027e-04, Loss_u: 2.1258e-04, Loss_f: 1.8769e-04\n",
      "Iter 3400, Loss: 2.3322e-04, Loss_u: 1.9685e-04, Loss_f: 3.6363e-05\n",
      "Iter 3500, Loss: 2.2744e-04, Loss_u: 1.9154e-04, Loss_f: 3.5902e-05\n",
      "Iter 3600, Loss: 2.2178e-04, Loss_u: 1.8678e-04, Loss_f: 3.5002e-05\n",
      "Iter 3700, Loss: 2.1692e-04, Loss_u: 1.8225e-04, Loss_f: 3.4674e-05\n",
      "Iter 3800, Loss: 2.1371e-04, Loss_u: 1.7933e-04, Loss_f: 3.4377e-05\n",
      "Iter 3900, Loss: 1.0215e-03, Loss_u: 2.1756e-04, Loss_f: 8.0396e-04\n",
      "Iter 4000, Loss: 2.0229e-04, Loss_u: 1.7092e-04, Loss_f: 3.1363e-05\n",
      "Iter 4100, Loss: 2.2381e-04, Loss_u: 1.6860e-04, Loss_f: 5.5215e-05\n",
      "Iter 4200, Loss: 2.0164e-04, Loss_u: 1.6421e-04, Loss_f: 3.7430e-05\n",
      "Iter 4300, Loss: 2.4814e-04, Loss_u: 1.6306e-04, Loss_f: 8.5079e-05\n",
      "Iter 4400, Loss: 1.8688e-04, Loss_u: 1.5828e-04, Loss_f: 2.8601e-05\n",
      "Iter 4500, Loss: 1.8690e-04, Loss_u: 1.5533e-04, Loss_f: 3.1570e-05\n",
      "Iter 4600, Loss: 1.8047e-04, Loss_u: 1.5284e-04, Loss_f: 2.7631e-05\n",
      "Iter 4700, Loss: 1.8083e-04, Loss_u: 1.5087e-04, Loss_f: 2.9960e-05\n",
      "Iter 4800, Loss: 1.8567e-04, Loss_u: 1.4882e-04, Loss_f: 3.6846e-05\n",
      "Iter 4900, Loss: 1.7347e-04, Loss_u: 1.4577e-04, Loss_f: 2.7694e-05\n",
      "Iter 5000, Loss: 2.7769e-04, Loss_u: 1.5089e-04, Loss_f: 1.2680e-04\n",
      "Iter 5100, Loss: 5.9012e-04, Loss_u: 1.5990e-04, Loss_f: 4.3022e-04\n",
      "Iter 5200, Loss: 2.2661e-04, Loss_u: 1.3959e-04, Loss_f: 8.7015e-05\n",
      "Iter 5300, Loss: 1.6339e-04, Loss_u: 1.3686e-04, Loss_f: 2.6527e-05\n",
      "Iter 5400, Loss: 2.8526e-04, Loss_u: 1.3791e-04, Loss_f: 1.4735e-04\n",
      "Iter 5500, Loss: 1.7619e-04, Loss_u: 1.3360e-04, Loss_f: 4.2589e-05\n",
      "Iter 5600, Loss: 1.5296e-04, Loss_u: 1.3102e-04, Loss_f: 2.1941e-05\n",
      "Iter 5700, Loss: 2.1955e-04, Loss_u: 1.3135e-04, Loss_f: 8.8197e-05\n",
      "Iter 5800, Loss: 1.4917e-04, Loss_u: 1.2732e-04, Loss_f: 2.1847e-05\n",
      "Iter 5900, Loss: 1.5627e-04, Loss_u: 1.2583e-04, Loss_f: 3.0440e-05\n",
      "Iter 6000, Loss: 1.4452e-04, Loss_u: 1.2389e-04, Loss_f: 2.0630e-05\n",
      "Iter 6100, Loss: 1.5064e-04, Loss_u: 1.2334e-04, Loss_f: 2.7299e-05\n",
      "Iter 6200, Loss: 1.4023e-04, Loss_u: 1.2073e-04, Loss_f: 1.9497e-05\n",
      "Iter 6300, Loss: 1.4607e-04, Loss_u: 1.2023e-04, Loss_f: 2.5833e-05\n",
      "Iter 6400, Loss: 1.4060e-04, Loss_u: 1.1766e-04, Loss_f: 2.2938e-05\n",
      "Iter 6500, Loss: 1.8491e-04, Loss_u: 1.1948e-04, Loss_f: 6.5432e-05\n",
      "Iter 6600, Loss: 1.3267e-04, Loss_u: 1.1471e-04, Loss_f: 1.7964e-05\n",
      "Iter 6700, Loss: 1.3161e-04, Loss_u: 1.1314e-04, Loss_f: 1.8477e-05\n",
      "Iter 6800, Loss: 1.6513e-04, Loss_u: 1.1292e-04, Loss_f: 5.2214e-05\n",
      "Iter 6900, Loss: 3.6553e-04, Loss_u: 1.2298e-04, Loss_f: 2.4255e-04\n",
      "Iter 7000, Loss: 1.2583e-04, Loss_u: 1.0920e-04, Loss_f: 1.6629e-05\n",
      "Iter 7100, Loss: 1.2478e-04, Loss_u: 1.0844e-04, Loss_f: 1.6343e-05\n",
      "Iter 7200, Loss: 1.2711e-04, Loss_u: 1.0737e-04, Loss_f: 1.9746e-05\n",
      "Iter 7300, Loss: 1.5535e-04, Loss_u: 1.0658e-04, Loss_f: 4.8773e-05\n",
      "Iter 7400, Loss: 1.2037e-04, Loss_u: 1.0429e-04, Loss_f: 1.6079e-05\n",
      "Iter 7500, Loss: 1.4220e-04, Loss_u: 1.0531e-04, Loss_f: 3.6887e-05\n",
      "Iter 7600, Loss: 1.2103e-04, Loss_u: 1.0239e-04, Loss_f: 1.8634e-05\n",
      "Iter 7700, Loss: 1.5830e-04, Loss_u: 1.0211e-04, Loss_f: 5.6183e-05\n",
      "Iter 7800, Loss: 1.1393e-04, Loss_u: 9.9490e-05, Loss_f: 1.4439e-05\n",
      "Iter 7900, Loss: 1.1466e-04, Loss_u: 9.8224e-05, Loss_f: 1.6433e-05\n",
      "Iter 8000, Loss: 1.1133e-04, Loss_u: 9.7467e-05, Loss_f: 1.3858e-05\n",
      "Iter 8100, Loss: 1.1343e-04, Loss_u: 9.6722e-05, Loss_f: 1.6711e-05\n",
      "Iter 8200, Loss: 1.3320e-04, Loss_u: 9.6909e-05, Loss_f: 3.6295e-05\n",
      "Iter 8300, Loss: 1.3973e-04, Loss_u: 9.4757e-05, Loss_f: 4.4971e-05\n",
      "Iter 8400, Loss: 1.1646e-04, Loss_u: 9.3851e-05, Loss_f: 2.2612e-05\n",
      "Iter 8500, Loss: 1.1310e-04, Loss_u: 9.3398e-05, Loss_f: 1.9699e-05\n",
      "Iter 8600, Loss: 1.5371e-04, Loss_u: 9.3922e-05, Loss_f: 5.9787e-05\n",
      "Iter 8700, Loss: 7.4865e-04, Loss_u: 1.0905e-04, Loss_f: 6.3960e-04\n",
      "Iter 8800, Loss: 5.0460e-04, Loss_u: 1.2138e-04, Loss_f: 3.8322e-04\n",
      "Iter 8900, Loss: 1.0031e-04, Loss_u: 8.8413e-05, Loss_f: 1.1900e-05\n",
      "Iter 9000, Loss: 2.0607e-04, Loss_u: 9.2471e-05, Loss_f: 1.1360e-04\n",
      "Iter 9100, Loss: 1.6001e-04, Loss_u: 9.0382e-05, Loss_f: 6.9628e-05\n",
      "Iter 9200, Loss: 2.8720e-04, Loss_u: 1.0167e-04, Loss_f: 1.8553e-04\n",
      "Iter 9300, Loss: 1.0052e-04, Loss_u: 8.5105e-05, Loss_f: 1.5413e-05\n",
      "Iter 9400, Loss: 1.2173e-04, Loss_u: 8.5614e-05, Loss_f: 3.6119e-05\n",
      "Iter 9500, Loss: 9.4510e-05, Loss_u: 8.3297e-05, Loss_f: 1.1213e-05\n",
      "Iter 9600, Loss: 1.9663e-04, Loss_u: 8.9953e-05, Loss_f: 1.0668e-04\n",
      "Iter 9700, Loss: 1.6275e-04, Loss_u: 8.4630e-05, Loss_f: 7.8115e-05\n",
      "Iter 9800, Loss: 9.1479e-05, Loss_u: 8.0814e-05, Loss_f: 1.0666e-05\n",
      "Iter 9900, Loss: 9.0361e-05, Loss_u: 8.0201e-05, Loss_f: 1.0161e-05\n"
     ]
    }
   ],
   "source": [
    "iterations = 10000\n",
    "for epoch in range(iterations):\n",
    "    optimizer.zero_grad()\n",
    "    \n",
    "    PINN_S_bc = pinn.forward(X_bc, Y_bc)\n",
    "    MSE_U = mse_cost_function(PINN_S_bc, S_bc)\n",
    "\n",
    "    PINN_Residual = residual(X, Y, pinn)\n",
    "    MSE_F = mse_cost_function(PINN_Residual, S)\n",
    "\n",
    "    Loss = MSE_U + MSE_F\n",
    "\n",
    "    Loss.backward()\n",
    "    optimizer.step()\n",
    "\n",
    "    with torch.autograd.no_grad():\n",
    "        if epoch%100 == 0:\n",
    "            print('Iter %d, Loss: %.4e, Loss_u: %.4e, Loss_f: %.4e' % (epoch, Loss, MSE_U, MSE_F))"
   ]
  },
  {
   "cell_type": "code",
   "execution_count": 9,
   "id": "50d965e9",
   "metadata": {},
   "outputs": [],
   "source": [
    "S = torch.zeros((N*N, 3))\n",
    "U = 1-(torch.exp(lamb*X))*(torch.cos(2*math.pi*Y))\n",
    "V = (lamb/(2*math.pi))*(torch.exp(lamb*X))*(torch.sin(2*math.pi*Y))\n",
    "P = (1/2)*(1-(torch.exp(2*lamb*X)))\n",
    "S[:,0:1] = torch.reshape(U, (U.shape[0],1))\n",
    "S[:,1:2] = torch.reshape(V, (V.shape[0],1))\n",
    "S[:,2:] = torch.reshape(P, (P.shape[0],1))"
   ]
  },
  {
   "cell_type": "code",
   "execution_count": 10,
   "id": "9e3b3b15",
   "metadata": {},
   "outputs": [
    {
     "name": "stdout",
     "output_type": "stream",
     "text": [
      "Relative L2 Error: 1.785925e-02\n"
     ]
    }
   ],
   "source": [
    "s_pred = pinn(X, Y)\n",
    "\n",
    "# Relative L2 Error\n",
    "error_s = torch.linalg.norm(S-s_pred,2)/torch.linalg.norm(S,2)\n",
    "print('Relative L2 Error: %e' % (error_s))"
   ]
  },
  {
   "cell_type": "code",
   "execution_count": 11,
   "id": "8a99415b",
   "metadata": {},
   "outputs": [],
   "source": [
    "u_test = torch.reshape(U, (N,N)).detach().numpy()\n",
    "v_test = torch.reshape(V, (N,N)).detach().numpy()\n",
    "p_test = torch.reshape(P, (N,N)).detach().numpy()\n",
    "u_pred = torch.reshape(s_pred[:,0], (N,N)).detach().numpy()\n",
    "v_pred = torch.reshape(s_pred[:,1], (N,N)).detach().numpy()\n",
    "p_pred = torch.reshape(s_pred[:,2], (N,N)).detach().numpy()"
   ]
  },
  {
   "cell_type": "code",
   "execution_count": 12,
   "id": "0f5f5d8c",
   "metadata": {},
   "outputs": [
    {
     "data": {
      "image/png": "[encoded data removed]",
      "text/plain": [
       "<Figure size 700x700 with 6 Axes>"
      ]
     },
     "metadata": {},
     "output_type": "display_data"
    }
   ],
   "source": [
    "fig, axs = plt.subplots(3, 2, figsize=(7, 7))\n",
    "axs[0, 0].imshow(u_test)\n",
    "axs[0, 0].set_title('analytical u')\n",
    "axs[1, 0].imshow(v_test)\n",
    "axs[1, 0].set_title('analytical v')\n",
    "axs[2, 0].imshow(p_test)\n",
    "axs[2, 0].set_title('analytical p')\n",
    "axs[0, 1].imshow(u_pred)\n",
    "axs[0, 1].set_title('learned u')\n",
    "axs[1, 1].imshow(v_pred)\n",
    "axs[1, 1].set_title('learned v')\n",
    "axs[2, 1].imshow(p_pred)\n",
    "axs[2, 1].set_title('learned p')\n",
    "fig.tight_layout()"
   ]
  },
  {
   "cell_type": "code",
   "execution_count": 13,
   "id": "1938d978",
   "metadata": {},
   "outputs": [
    {
     "name": "stdout",
     "output_type": "stream",
     "text": [
      "odict_keys(['layer1.weight', 'layer1.bias', 'layer2.weight', 'layer2.bias', 'layer3.weight', 'layer3.bias', 'layer4.weight', 'layer4.bias', 'layer5.weight', 'layer5.bias', 'output_layer.weight', 'output_layer.bias'])\n"
     ]
    }
   ],
   "source": [
    "params = pinn.state_dict()\n",
    "print(params.keys())"
   ]
  },
  {
   "cell_type": "code",
   "execution_count": 14,
   "id": "9abd2dc9",
   "metadata": {},
   "outputs": [],
   "source": [
    "flattened_weights = []\n",
    "for key in params.keys():\n",
    "    flattened_tensor = torch.reshape(params[key], (-1,)).tolist()\n",
    "    for val in flattened_tensor:\n",
    "        flattened_weights.append(val)\n",
    "weights_array = np.array(flattened_weights)\n",
    "np.savetxt('data/weights/weights_'+str(Re)+'.txt', weights_array)"
   ]
  }
 ],
 "metadata": {
  "kernelspec": {
   "display_name": "Python 3 (ipykernel)",
   "language": "python",
   "name": "python3"
  },
  "language_info": {
   "codemirror_mode": {
    "name": "ipython",
    "version": 3
   },
   "file_extension": ".py",
   "mimetype": "text/x-python",
   "name": "python",
   "nbconvert_exporter": "python",
   "pygments_lexer": "ipython3",
   "version": "3.10.9"
  }
 },
 "nbformat": 4,
 "nbformat_minor": 5
}
