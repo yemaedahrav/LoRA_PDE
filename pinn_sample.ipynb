{
 "cells": [
  {
   "cell_type": "code",
   "execution_count": 1,
   "id": "9e4d18a6",
   "metadata": {},
   "outputs": [],
   "source": [
    "import math\n",
    "import pandas as pd\n",
    "import numpy as np\n",
    "import matplotlib.pyplot as plt\n",
    "import torch\n",
    "import torch.nn as nn\n",
    "import torch.nn.functional as F\n",
    "import torch.optim as optim\n",
    "import torch.optim.lr_scheduler as lr_scheduler\n",
    "from torch.autograd import Variable\n",
    "\n",
    "device = torch.device(\"cuda\" if torch.cuda.is_available() else \"cpu\")\n",
    "random_seed = 1\n",
    "torch.manual_seed(random_seed)\n",
    "torch.cuda.manual_seed(random_seed)\n",
    "torch.backends.cudnn.deterministic = True\n",
    "torch.backends.cudnn.benchmark = False\n",
    "np.random.seed(random_seed)"
   ]
  },
  {
   "cell_type": "code",
   "execution_count": 2,
   "id": "b36cd68d",
   "metadata": {},
   "outputs": [],
   "source": [
    "xmin = -0.5\n",
    "xmax = 1\n",
    "ymin = -0.5\n",
    "ymax = 1.5\n",
    "N = 50\n",
    "N_bc = 80\n",
    "Re = 10\n",
    "nu = 1 / Re\n",
    "lamb = 1 / (2 * nu) - np.sqrt(1 / (4 * nu ** 2) + 4 * np.pi ** 2)"
   ]
  },
  {
   "cell_type": "code",
   "execution_count": 3,
   "id": "553692da",
   "metadata": {},
   "outputs": [],
   "source": [
    "dx = (xmax-xmin)/(N_bc)\n",
    "dy = (ymax-ymin)/(N_bc)\n",
    "x_data = np.arange(xmin+dx, xmax, dx)\n",
    "y_data = np.arange(ymin+dy, ymax, dy)\n",
    "#print(dx)\n",
    "#print(dy)\n",
    "#print(\"X_data: \", x_data)\n",
    "#print(\"Y_data: \", y_data)\n",
    "\n",
    "x = []\n",
    "y = []\n",
    "x.append(xmin)\n",
    "y.append(ymin)\n",
    "x.append(xmin)\n",
    "y.append(ymax)\n",
    "x.append(xmax)\n",
    "y.append(ymin)\n",
    "x.append(xmax)\n",
    "y.append(ymax)\n",
    "for i in range(N_bc-1):\n",
    "    x.append(xmin)\n",
    "    y.append(y_data[i])\n",
    "    x.append(xmax)\n",
    "    y.append(y_data[i])\n",
    "    x.append(x_data[i])\n",
    "    y.append(ymin)\n",
    "    x.append(x_data[i])\n",
    "    y.append(ymax)\n",
    "\n",
    "x = np.array(x, dtype=float)\n",
    "y = np.array(y, dtype=float)\n",
    "X_bc = np.ndarray.reshape(x, (x.shape[0],1))\n",
    "Y_bc = np.ndarray.reshape(y, (y.shape[0],1))\n",
    "\n",
    "S_bc = np.zeros((4*N_bc, 3))\n",
    "U_bc = 1-(np.exp(lamb*X_bc))*(np.cos(2*math.pi*Y_bc))\n",
    "V_bc = (lamb/(2*math.pi))*(np.exp(lamb*X_bc))*(np.sin(2*math.pi*Y_bc))\n",
    "P_bc = (1/2)*(1-(np.exp(2*lamb*X_bc)))\n",
    "S_bc[:,0:1] = np.ndarray.reshape(U_bc, (U_bc.shape[0],1))\n",
    "S_bc[:,1:2] = np.ndarray.reshape(V_bc, (V_bc.shape[0],1))\n",
    "S_bc[:,2:] = np.ndarray.reshape(P_bc, (P_bc.shape[0],1))\n",
    "\n",
    "#print(\"X_bc: \", X_bc.shape)\n",
    "#print(\"Y_bc: \", Y_bc.shape)\n",
    "\n",
    "# print(\"X_bc: \", x_bc)\n",
    "# print(\"Y_bc: \", y_bc)\n",
    "\n",
    "# for i in range(4*N):\n",
    "#     print(x_bc[i], \" \", y_bc[i])"
   ]
  },
  {
   "cell_type": "code",
   "execution_count": 4,
   "id": "a9230a84",
   "metadata": {},
   "outputs": [],
   "source": [
    "X_bc = Variable(torch.from_numpy(X_bc).float(), requires_grad=False).to(device)\n",
    "Y_bc = Variable(torch.from_numpy(Y_bc).float(), requires_grad=False).to(device)\n",
    "S_bc = Variable(torch.from_numpy(S_bc).float(), requires_grad=False).to(device)\n",
    "\n",
    "x = np.arange(xmin, xmax, (xmax-xmin)/N)\n",
    "y = np.arange(ymin, ymax, (ymax-ymin)/N)\n",
    "X, Y = np.meshgrid(x,y)\n",
    "X = X.flatten()[:,None]\n",
    "Y = Y.flatten()[:,None]\n",
    "F = np.zeros_like(X)\n",
    "\n",
    "X = Variable(torch.from_numpy(X).float(), requires_grad=True).to(device)\n",
    "Y = Variable(torch.from_numpy(Y).float(), requires_grad=True).to(device)\n",
    "F = Variable(torch.from_numpy(F).float(), requires_grad=True).to(device)"
   ]
  },
  {
   "cell_type": "code",
   "execution_count": 5,
   "id": "2d6fc869",
   "metadata": {},
   "outputs": [],
   "source": [
    "class PINN(nn.Module):\n",
    "    def __init__(self):\n",
    "        super(PINN, self).__init__()\n",
    "        self.layer1 = nn.Linear(2,20)\n",
    "        self.layer2 = nn.Linear(20,20)\n",
    "        self.layer3 = nn.Linear(20,20)\n",
    "        self.layer4 = nn.Linear(20,20)\n",
    "        self.layer5 = nn.Linear(20,20)\n",
    "        self.layer6 = nn.Linear(20,20)\n",
    "        self.output_layer = nn.Linear(20,3)\n",
    "\n",
    "    def forward(self, x, y): \n",
    "        inputs = torch.cat([x, y], axis=1)\n",
    "        layer1_out = torch.tanh(self.layer1(inputs))\n",
    "        layer2_out = torch.tanh(self.layer2(layer1_out))\n",
    "        layer3_out = torch.tanh(self.layer3(layer2_out))\n",
    "        layer4_out = torch.tanh(self.layer4(layer3_out))\n",
    "        layer5_out = torch.tanh(self.layer5(layer4_out))\n",
    "        layer6_out = torch.tanh(self.layer6(layer5_out))\n",
    "        output = self.output_layer(layer6_out) \n",
    "        return output"
   ]
  },
  {
   "cell_type": "code",
   "execution_count": 6,
   "id": "93ccc50d",
   "metadata": {},
   "outputs": [],
   "source": [
    "pinn = PINN()\n",
    "pinn = pinn.to(device)\n",
    "mse_cost_function = nn.MSELoss() \n",
    "optimizer = torch.optim.Adam(pinn.parameters(), lr=1e-2)\n",
    "scheduler = lr_scheduler.StepLR(optimizer, step_size=8000, gamma=0.1, last_epoch=-1, verbose=False)"
   ]
  },
  {
   "cell_type": "code",
   "execution_count": 7,
   "id": "a910556a",
   "metadata": {},
   "outputs": [],
   "source": [
    "def residual(x, y, pinn):\n",
    "    s = pinn.forward(x, y)\n",
    "    u = s[:,0:1]\n",
    "    v = s[:,1:2]\n",
    "    p = s[:,2:]\n",
    "\n",
    "    du_dx = torch.autograd.grad(u.sum(), x, create_graph=True)[0]\n",
    "    dv_dx = torch.autograd.grad(v.sum(), x, create_graph=True)[0]\n",
    "    dp_dx = torch.autograd.grad(p.sum(), x, create_graph=True)[0]\n",
    "\n",
    "    du_dy = torch.autograd.grad(u.sum(), y, create_graph=True)[0]\n",
    "    dv_dy = torch.autograd.grad(v.sum(), y, create_graph=True)[0]\n",
    "    dp_dy = torch.autograd.grad(p.sum(), y, create_graph=True)[0]\n",
    "\n",
    "    du_dxx = torch.autograd.grad(du_dx.sum(), x, create_graph=True)[0]\n",
    "    dv_dxx = torch.autograd.grad(dv_dx.sum(), x, create_graph=True)[0]\n",
    "    du_dyy = torch.autograd.grad(du_dy.sum(), y, create_graph=True)[0]\n",
    "    dv_dyy = torch.autograd.grad(dv_dy.sum(), y, create_graph=True)[0]\n",
    "\n",
    "    f1 = u*du_dx + v*du_dy + dp_dx - nu*(du_dxx + du_dyy)\n",
    "    f2 = u*dv_dx + v*dv_dy + dp_dy - nu*(dv_dxx + dv_dyy)\n",
    "    f3 = du_dx + dv_dy\n",
    "    f = f1 + f2 + f3\n",
    "    return f"
   ]
  },
  {
   "cell_type": "code",
   "execution_count": 8,
   "id": "2b4ee03a",
   "metadata": {},
   "outputs": [
    {
     "name": "stdout",
     "output_type": "stream",
     "text": [
      "Epoch 0, LR: 1.0000e-02, Loss: 1.1021e+01, Data Loss: 1.1021e+01, Physics Loss: 2.7280e-05\n"
     ]
    },
    {
     "name": "stderr",
     "output_type": "stream",
     "text": [
      "C:\\Users\\ameyv\\anaconda3\\envs\\amey-pinn\\lib\\site-packages\\torch\\autograd\\__init__.py:197: UserWarning: grad and param do not obey the gradient layout contract. This is not an error, but may impair performance.\n",
      "grad.sizes() = [2500, 1], strides() = [1, 0]\n",
      "param.sizes() = [2500, 1], strides() = [1, 0] (Triggered internally at C:\\cb\\pytorch_1000000000000\\work\\torch/csrc/autograd/functions/accumulate_grad.h:202.)\n",
      "  Variable._execution_engine.run_backward(  # Calls into the C++ engine to run the backward pass\n"
     ]
    },
    {
     "name": "stdout",
     "output_type": "stream",
     "text": [
      "Epoch 1000, LR: 1.0000e-02, Loss: 1.4570e+00, Data Loss: 1.4532e+00, Physics Loss: 3.8479e-03\n",
      "Epoch 2000, LR: 1.0000e-02, Loss: 1.4738e+00, Data Loss: 1.4695e+00, Physics Loss: 4.3222e-03\n",
      "Epoch 3000, LR: 1.0000e-02, Loss: 1.4632e+00, Data Loss: 1.4600e+00, Physics Loss: 3.1604e-03\n",
      "Epoch 4000, LR: 1.0000e-02, Loss: 1.3768e+00, Data Loss: 1.3013e+00, Physics Loss: 7.5451e-02\n",
      "Epoch 5000, LR: 1.0000e-02, Loss: 1.9124e+00, Data Loss: 1.2103e+00, Physics Loss: 7.0217e-01\n",
      "Epoch 6000, LR: 1.0000e-02, Loss: 1.3736e+00, Data Loss: 1.1604e+00, Physics Loss: 2.1316e-01\n",
      "Epoch 7000, LR: 1.0000e-02, Loss: 1.1893e+00, Data Loss: 1.0208e+00, Physics Loss: 1.6850e-01\n",
      "Epoch 8000, LR: 1.0000e-03, Loss: 1.0024e+00, Data Loss: 9.3176e-01, Physics Loss: 7.0637e-02\n",
      "Epoch 9000, LR: 1.0000e-03, Loss: 8.2257e-01, Data Loss: 8.1216e-01, Physics Loss: 1.0409e-02\n",
      "Epoch 10000, LR: 1.0000e-03, Loss: 6.1031e-01, Data Loss: 5.7867e-01, Physics Loss: 3.1649e-02\n",
      "Epoch 11000, LR: 1.0000e-03, Loss: 4.0576e-01, Data Loss: 3.7568e-01, Physics Loss: 3.0087e-02\n",
      "Epoch 12000, LR: 1.0000e-03, Loss: 2.7038e-01, Data Loss: 2.4006e-01, Physics Loss: 3.0319e-02\n",
      "Epoch 13000, LR: 1.0000e-03, Loss: 2.6317e-01, Data Loss: 1.7537e-01, Physics Loss: 8.7809e-02\n",
      "Epoch 14000, LR: 1.0000e-03, Loss: 1.6256e-01, Data Loss: 1.3918e-01, Physics Loss: 2.3386e-02\n",
      "Epoch 15000, LR: 1.0000e-03, Loss: 1.2827e-01, Data Loss: 1.0741e-01, Physics Loss: 2.0866e-02\n",
      "Epoch 16000, LR: 1.0000e-04, Loss: 1.0143e-01, Data Loss: 8.2695e-02, Physics Loss: 1.8740e-02\n",
      "Epoch 17000, LR: 1.0000e-04, Loss: 9.8489e-02, Data Loss: 7.9765e-02, Physics Loss: 1.8724e-02\n",
      "Epoch 18000, LR: 1.0000e-04, Loss: 9.4121e-02, Data Loss: 7.5618e-02, Physics Loss: 1.8503e-02\n",
      "Epoch 19000, LR: 1.0000e-04, Loss: 8.7639e-02, Data Loss: 6.9780e-02, Physics Loss: 1.7859e-02\n",
      "Epoch 20000, LR: 1.0000e-04, Loss: 7.8340e-02, Data Loss: 6.1819e-02, Physics Loss: 1.6521e-02\n",
      "Epoch 21000, LR: 1.0000e-04, Loss: 6.6798e-02, Data Loss: 5.2323e-02, Physics Loss: 1.4476e-02\n",
      "Epoch 22000, LR: 1.0000e-04, Loss: 5.7652e-02, Data Loss: 4.4960e-02, Physics Loss: 1.2692e-02\n",
      "Epoch 23000, LR: 1.0000e-04, Loss: 5.1353e-02, Data Loss: 3.9266e-02, Physics Loss: 1.2086e-02\n",
      "Epoch 24000, LR: 1.0000e-05, Loss: 4.5371e-02, Data Loss: 3.4973e-02, Physics Loss: 1.0399e-02\n",
      "Epoch 25000, LR: 1.0000e-05, Loss: 4.4777e-02, Data Loss: 3.4483e-02, Physics Loss: 1.0293e-02\n",
      "Epoch 26000, LR: 1.0000e-05, Loss: 4.3851e-02, Data Loss: 3.3721e-02, Physics Loss: 1.0130e-02\n",
      "Epoch 27000, LR: 1.0000e-05, Loss: 4.2464e-02, Data Loss: 3.2577e-02, Physics Loss: 9.8870e-03\n",
      "Epoch 28000, LR: 1.0000e-05, Loss: 4.0497e-02, Data Loss: 3.0957e-02, Physics Loss: 9.5401e-03\n",
      "Epoch 29000, LR: 1.0000e-05, Loss: 3.8060e-02, Data Loss: 2.8962e-02, Physics Loss: 9.0988e-03\n",
      "Epoch 30000, LR: 1.0000e-05, Loss: 3.5846e-02, Data Loss: 2.7174e-02, Physics Loss: 8.6725e-03\n",
      "Epoch 31000, LR: 1.0000e-05, Loss: 3.3917e-02, Data Loss: 2.5628e-02, Physics Loss: 8.2890e-03\n",
      "Epoch 32000, LR: 1.0000e-06, Loss: 3.2208e-02, Data Loss: 2.4278e-02, Physics Loss: 7.9301e-03\n",
      "Epoch 33000, LR: 1.0000e-06, Loss: 3.2010e-02, Data Loss: 2.4123e-02, Physics Loss: 7.8872e-03\n",
      "Epoch 34000, LR: 1.0000e-06, Loss: 3.1730e-02, Data Loss: 2.3900e-02, Physics Loss: 7.8302e-03\n",
      "Epoch 35000, LR: 1.0000e-06, Loss: 3.1352e-02, Data Loss: 2.3599e-02, Physics Loss: 7.7531e-03\n",
      "Epoch 36000, LR: 1.0000e-06, Loss: 3.0875e-02, Data Loss: 2.3223e-02, Physics Loss: 7.6521e-03\n",
      "Epoch 37000, LR: 1.0000e-06, Loss: 3.0312e-02, Data Loss: 2.2785e-02, Physics Loss: 7.5267e-03\n",
      "Epoch 38000, LR: 1.0000e-06, Loss: 2.9743e-02, Data Loss: 2.2345e-02, Physics Loss: 7.3980e-03\n",
      "Epoch 39000, LR: 1.0000e-06, Loss: 2.9196e-02, Data Loss: 2.1923e-02, Physics Loss: 7.2735e-03\n",
      "Epoch 40000, LR: 1.0000e-07, Loss: 2.8672e-02, Data Loss: 2.1519e-02, Physics Loss: 7.1537e-03\n",
      "Epoch 41000, LR: 1.0000e-07, Loss: 2.8615e-02, Data Loss: 2.1476e-02, Physics Loss: 7.1396e-03\n",
      "Epoch 42000, LR: 1.0000e-07, Loss: 2.8550e-02, Data Loss: 2.1426e-02, Physics Loss: 7.1236e-03\n",
      "Epoch 43000, LR: 1.0000e-07, Loss: 2.8477e-02, Data Loss: 2.1373e-02, Physics Loss: 7.1046e-03\n",
      "Epoch 44000, LR: 1.0000e-07, Loss: 2.8401e-02, Data Loss: 2.1316e-02, Physics Loss: 7.0846e-03\n",
      "Epoch 45000, LR: 1.0000e-07, Loss: 2.8322e-02, Data Loss: 2.1258e-02, Physics Loss: 7.0640e-03\n",
      "Epoch 46000, LR: 1.0000e-07, Loss: 2.8243e-02, Data Loss: 2.1199e-02, Physics Loss: 7.0433e-03\n",
      "Epoch 47000, LR: 1.0000e-07, Loss: 2.8163e-02, Data Loss: 2.1141e-02, Physics Loss: 7.0223e-03\n",
      "Epoch 48000, LR: 1.0000e-08, Loss: 2.8084e-02, Data Loss: 2.1082e-02, Physics Loss: 7.0021e-03\n",
      "Epoch 49000, LR: 1.0000e-08, Loss: 2.8080e-02, Data Loss: 2.1080e-02, Physics Loss: 7.0000e-03\n"
     ]
    }
   ],
   "source": [
    "iterations = 50000\n",
    "for epoch in range(iterations):\n",
    "    optimizer.zero_grad()\n",
    "    \n",
    "    PINN_S_bc = pinn.forward(X_bc, Y_bc)\n",
    "    MSE_U = mse_cost_function(PINN_S_bc, S_bc)\n",
    "\n",
    "    PINN_Residual = residual(X, Y, pinn)\n",
    "    MSE_F = mse_cost_function(PINN_Residual, F)\n",
    "\n",
    "    Loss = MSE_U + MSE_F\n",
    "\n",
    "    Loss.backward()\n",
    "    optimizer.step()\n",
    "    scheduler.step()\n",
    "\n",
    "    with torch.autograd.no_grad():\n",
    "        if epoch%1000 == 0:\n",
    "            current_lr = optimizer.param_groups[0]['lr']\n",
    "            print('Epoch %d, LR: %.4e, Loss: %.4e, Data Loss: %.4e, Physics Loss: %.4e' % (epoch, current_lr, Loss, MSE_U, MSE_F))"
   ]
  },
  {
   "cell_type": "code",
   "execution_count": 9,
   "id": "50d965e9",
   "metadata": {},
   "outputs": [],
   "source": [
    "S = torch.zeros((N*N, 3))\n",
    "U = 1-(torch.exp(lamb*X))*(torch.cos(2*math.pi*Y))\n",
    "V = (lamb/(2*math.pi))*(torch.exp(lamb*X))*(torch.sin(2*math.pi*Y))\n",
    "P = (1/2)*(1-(torch.exp(2*lamb*X)))\n",
    "S[:,0:1] = torch.reshape(U, (U.shape[0],1))\n",
    "S[:,1:2] = torch.reshape(V, (V.shape[0],1))\n",
    "S[:,2:] = torch.reshape(P, (P.shape[0],1))"
   ]
  },
  {
   "cell_type": "code",
   "execution_count": 10,
   "id": "9e3b3b15",
   "metadata": {},
   "outputs": [
    {
     "name": "stdout",
     "output_type": "stream",
     "text": [
      "Mean L2 Error: 9.460452e+01\n",
      "Relative L2 Error: 7.616618e-01\n"
     ]
    }
   ],
   "source": [
    "s_pred = pinn(X, Y)\n",
    "# Mean L2 Error\n",
    "error = torch.linalg.norm(S-s_pred,2)\n",
    "print('Mean L2 Error: %e' % (error))\n",
    "\n",
    "# Relative L2 Error\n",
    "error_s = torch.linalg.norm(S-s_pred,2)/torch.linalg.norm(S,2)\n",
    "print('Relative L2 Error: %e' % (error_s))"
   ]
  },
  {
   "cell_type": "code",
   "execution_count": 11,
   "id": "8a99415b",
   "metadata": {},
   "outputs": [],
   "source": [
    "u_test = torch.reshape(U, (N,N)).detach().numpy()\n",
    "v_test = torch.reshape(V, (N,N)).detach().numpy()\n",
    "p_test = torch.reshape(P, (N,N)).detach().numpy()\n",
    "u_pred = torch.reshape(s_pred[:,0], (N,N)).detach().numpy()\n",
    "v_pred = torch.reshape(s_pred[:,1], (N,N)).detach().numpy()\n",
    "p_pred = torch.reshape(s_pred[:,2], (N,N)).detach().numpy()"
   ]
  },
  {
   "cell_type": "code",
   "execution_count": 12,
   "id": "0f5f5d8c",
   "metadata": {},
   "outputs": [
    {
     "data": {
      "image/png": "[encoded data removed]",
      "text/plain": [
       "<Figure size 700x700 with 6 Axes>"
      ]
     },
     "metadata": {},
     "output_type": "display_data"
    }
   ],
   "source": [
    "fig, axs = plt.subplots(3, 2, figsize=(7, 7))\n",
    "axs[0, 0].imshow(u_test)\n",
    "axs[0, 0].set_title('analytical u')\n",
    "axs[1, 0].imshow(v_test)\n",
    "axs[1, 0].set_title('analytical v')\n",
    "axs[2, 0].imshow(p_test)\n",
    "axs[2, 0].set_title('analytical p')\n",
    "axs[0, 1].imshow(u_pred)\n",
    "axs[0, 1].set_title('learned u')\n",
    "axs[1, 1].imshow(v_pred)\n",
    "axs[1, 1].set_title('learned v')\n",
    "axs[2, 1].imshow(p_pred)\n",
    "axs[2, 1].set_title('learned p')\n",
    "fig.tight_layout()"
   ]
  },
  {
   "cell_type": "code",
   "execution_count": 13,
   "id": "1938d978",
   "metadata": {},
   "outputs": [
    {
     "name": "stdout",
     "output_type": "stream",
     "text": [
      "odict_keys(['layer1.weight', 'layer1.bias', 'layer2.weight', 'layer2.bias', 'layer3.weight', 'layer3.bias', 'layer4.weight', 'layer4.bias', 'layer5.weight', 'layer5.bias', 'layer6.weight', 'layer6.bias', 'output_layer.weight', 'output_layer.bias'])\n"
     ]
    }
   ],
   "source": [
    "params = pinn.state_dict()\n",
    "print(params.keys())"
   ]
  },
  {
   "cell_type": "code",
   "execution_count": 14,
   "id": "9abd2dc9",
   "metadata": {},
   "outputs": [],
   "source": [
    "flattened_weights = []\n",
    "for key in params.keys():\n",
    "    flattened_tensor = torch.reshape(params[key], (-1,)).tolist()\n",
    "    for val in flattened_tensor:\n",
    "        flattened_weights.append(val)\n",
    "weights_array = np.array(flattened_weights)\n",
    "np.savetxt('data/weights/weights_'+str(Re)+'.txt', weights_array)"
   ]
  }
 ],
 "metadata": {
  "kernelspec": {
   "display_name": "Python 3 (ipykernel)",
   "language": "python",
   "name": "python3"
  },
  "language_info": {
   "codemirror_mode": {
    "name": "ipython",
    "version": 3
   },
   "file_extension": ".py",
   "mimetype": "text/x-python",
   "name": "python",
   "nbconvert_exporter": "python",
   "pygments_lexer": "ipython3",
   "version": "3.10.9"
  }
 },
 "nbformat": 4,
 "nbformat_minor": 5
}
