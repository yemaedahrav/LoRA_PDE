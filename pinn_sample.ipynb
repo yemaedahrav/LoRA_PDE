{
 "cells": [
  {
   "cell_type": "code",
   "execution_count": 1,
   "id": "9e4d18a6",
   "metadata": {},
   "outputs": [],
   "source": [
    "import math\n",
    "import pandas as pd\n",
    "import numpy as np\n",
    "import matplotlib.pyplot as plt\n",
    "import torch\n",
    "import torch.nn as nn\n",
    "import torch.nn.functional as F\n",
    "import torch.optim as optim\n",
    "import torch.optim.lr_scheduler as lr_scheduler\n",
    "from torch.autograd import Variable\n",
    "device = torch.device(\"cuda:0\" if torch.cuda.is_available() else \"cpu\")"
   ]
  },
  {
   "cell_type": "code",
   "execution_count": 2,
   "id": "b36cd68d",
   "metadata": {},
   "outputs": [],
   "source": [
    "xmin = -0.5\n",
    "xmax = 1\n",
    "ymin = -0.5\n",
    "ymax = 1.5\n",
    "N = 50\n",
    "Re = 10\n",
    "nu = 1 / Re\n",
    "lamb = 1 / (2 * nu) - np.sqrt(1 / (4 * nu ** 2) + 4 * np.pi ** 2)"
   ]
  },
  {
   "cell_type": "code",
   "execution_count": 3,
   "id": "553692da",
   "metadata": {},
   "outputs": [],
   "source": [
    "x_data = np.arange(xmin, xmax, (xmax-xmin)/N)\n",
    "y_data = np.arange(ymin, ymax, (ymax-ymin)/N)\n",
    "\n",
    "#print(\"X_data: \", x_data)\n",
    "#print(\"Y_data: \", y_data)\n",
    "\n",
    "x = []\n",
    "y = []\n",
    "for i in range(N):\n",
    "    x.append(xmin)\n",
    "    y.append(y_data[i])\n",
    "    x.append(xmax)\n",
    "    y.append(y_data[i])\n",
    "    x.append(x_data[i])\n",
    "    y.append(ymin)\n",
    "    x.append(x_data[i])\n",
    "    y.append(ymax)\n",
    "\n",
    "x = np.array(x, dtype=float)\n",
    "y = np.array(y, dtype=float)\n",
    "X_bc = np.ndarray.reshape(x, (x.shape[0],1))\n",
    "Y_bc = np.ndarray.reshape(y, (y.shape[0],1))\n",
    "\n",
    "S_bc = np.zeros((4*N, 3))\n",
    "U_bc = 1-(np.exp(lamb*X_bc))*(np.cos(2*math.pi*Y_bc))\n",
    "V_bc = (lamb/(2*math.pi))*(np.exp(lamb*X_bc))*(np.sin(2*math.pi*Y_bc))\n",
    "P_bc = (1/2)*(1-(np.exp(2*lamb*X_bc)))\n",
    "S_bc[:,0:1] = np.ndarray.reshape(U_bc, (U_bc.shape[0],1))\n",
    "S_bc[:,1:2] = np.ndarray.reshape(V_bc, (V_bc.shape[0],1))\n",
    "S_bc[:,2:] = np.ndarray.reshape(P_bc, (P_bc.shape[0],1))\n",
    "#print(\"X_bc: \", X_bc.shape)\n",
    "#print(\"Y_bc: \", Y_bc.shape)\n",
    "\n",
    "# print(\"X_bc: \", x_bc)\n",
    "# print(\"Y_bc: \", y_bc)\n",
    "\n",
    "# for i in range(4*N):\n",
    "#     print(x_bc[i], \" \", y_bc[i])"
   ]
  },
  {
   "cell_type": "code",
   "execution_count": 4,
   "id": "a9230a84",
   "metadata": {},
   "outputs": [],
   "source": [
    "X_bc = Variable(torch.from_numpy(X_bc).float(), requires_grad=False).to(device)\n",
    "Y_bc = Variable(torch.from_numpy(Y_bc).float(), requires_grad=False).to(device)\n",
    "S_bc = Variable(torch.from_numpy(S_bc).float(), requires_grad=False).to(device)\n",
    "\n",
    "x = np.arange(xmin, xmax, (xmax-xmin)/N)\n",
    "y = np.arange(ymin, ymax, (ymax-ymin)/N)\n",
    "X, Y = np.meshgrid(x,y)\n",
    "X = X.flatten()[:,None]\n",
    "Y = Y.flatten()[:,None]\n",
    "S = np.zeros_like(X)\n",
    "\n",
    "X = Variable(torch.from_numpy(X).float(), requires_grad=True).to(device)\n",
    "Y = Variable(torch.from_numpy(Y).float(), requires_grad=True).to(device)\n",
    "S = Variable(torch.from_numpy(S).float(), requires_grad=False).to(device)"
   ]
  },
  {
   "cell_type": "code",
   "execution_count": 5,
   "id": "2d6fc869",
   "metadata": {},
   "outputs": [],
   "source": [
    "class PINN(nn.Module):\n",
    "    def __init__(self):\n",
    "        super(PINN, self).__init__()\n",
    "        self.layer1 = nn.Linear(2,20)\n",
    "        self.layer2 = nn.Linear(20,20)\n",
    "        self.layer3 = nn.Linear(20,20)\n",
    "        self.layer4 = nn.Linear(20,20)\n",
    "        self.layer5 = nn.Linear(20,20)\n",
    "        self.output_layer = nn.Linear(20,3)\n",
    "\n",
    "    def forward(self, x, y): \n",
    "        inputs = torch.cat([x, y], axis=1)\n",
    "        layer1_out = torch.tanh(self.layer1(inputs))\n",
    "        layer2_out = torch.tanh(self.layer2(layer1_out))\n",
    "        layer3_out = torch.tanh(self.layer3(layer2_out))\n",
    "        layer4_out = torch.tanh(self.layer4(layer3_out))\n",
    "        layer5_out = torch.tanh(self.layer5(layer4_out))\n",
    "        output = self.output_layer(layer5_out) \n",
    "        return output"
   ]
  },
  {
   "cell_type": "code",
   "execution_count": 6,
   "id": "93ccc50d",
   "metadata": {},
   "outputs": [],
   "source": [
    "pinn = PINN()\n",
    "pinn = pinn.to(device)\n",
    "mse_cost_function = nn.MSELoss() \n",
    "optimizer = torch.optim.Adam(pinn.parameters(), lr=1e-4)\n",
    "scheduler = lr_scheduler.StepLR(optimizer, step_size=4000, gamma=0.1, last_epoch=- 1, verbose=False)"
   ]
  },
  {
   "cell_type": "code",
   "execution_count": 7,
   "id": "a910556a",
   "metadata": {},
   "outputs": [],
   "source": [
    "def residual(x, y, pinn):\n",
    "    s = pinn.forward(x, y)\n",
    "    u = s[:,0:1]\n",
    "    v = s[:,1:2]\n",
    "    p = s[:,2:]\n",
    "\n",
    "    du_dx = torch.autograd.grad(u.sum(), x, create_graph=True)[0]\n",
    "    dv_dx = torch.autograd.grad(v.sum(), x, create_graph=True)[0]\n",
    "    dp_dx = torch.autograd.grad(p.sum(), x, create_graph=True)[0]\n",
    "\n",
    "    du_dy = torch.autograd.grad(u.sum(), y, create_graph=True)[0]\n",
    "    dv_dy = torch.autograd.grad(v.sum(), y, create_graph=True)[0]\n",
    "    dp_dy = torch.autograd.grad(p.sum(), y, create_graph=True)[0]\n",
    "\n",
    "    du_dxx = torch.autograd.grad(du_dx.sum(), x, create_graph=True)[0]\n",
    "    dv_dxx = torch.autograd.grad(dv_dx.sum(), x, create_graph=True)[0]\n",
    "    du_dyy = torch.autograd.grad(du_dy.sum(), y, create_graph=True)[0]\n",
    "    dv_dyy = torch.autograd.grad(dv_dy.sum(), y, create_graph=True)[0]\n",
    "\n",
    "    f1 = u*du_dx + v*du_dy + dp_dx - nu*(du_dxx + du_dyy)\n",
    "    f2 = u*dv_dx + v*dv_dy + dp_dy - nu*(dv_dxx + dv_dyy)\n",
    "    f3 = du_dx + dv_dy\n",
    "    f = f1 + f2 + f3\n",
    "    return f"
   ]
  },
  {
   "cell_type": "code",
   "execution_count": 8,
   "id": "2b4ee03a",
   "metadata": {},
   "outputs": [
    {
     "name": "stdout",
     "output_type": "stream",
     "text": [
      "Epoch 0, Loss: 1.1697e+01, Loss_u: 1.1697e+01, Loss_f: 1.5659e-04\n"
     ]
    },
    {
     "name": "stderr",
     "output_type": "stream",
     "text": [
      "C:\\Users\\ameyv\\anaconda3\\envs\\amey-pinn\\lib\\site-packages\\torch\\autograd\\__init__.py:197: UserWarning: grad and param do not obey the gradient layout contract. This is not an error, but may impair performance.\n",
      "grad.sizes() = [2500, 1], strides() = [1, 0]\n",
      "param.sizes() = [2500, 1], strides() = [1, 0] (Triggered internally at C:\\cb\\pytorch_1000000000000\\work\\torch/csrc/autograd/functions/accumulate_grad.h:202.)\n",
      "  Variable._execution_engine.run_backward(  # Calls into the C++ engine to run the backward pass\n"
     ]
    },
    {
     "name": "stdout",
     "output_type": "stream",
     "text": [
      "Epoch 500, Loss: 7.4032e+00, Loss_u: 7.3953e+00, Loss_f: 7.9321e-03\n",
      "Epoch 1000, Loss: 5.2027e+00, Loss_u: 5.1768e+00, Loss_f: 2.5980e-02\n",
      "Epoch 1500, Loss: 3.5834e+00, Loss_u: 3.5715e+00, Loss_f: 1.1843e-02\n",
      "Epoch 2000, Loss: 2.7618e+00, Loss_u: 2.7531e+00, Loss_f: 8.6507e-03\n",
      "Epoch 2500, Loss: 2.2736e+00, Loss_u: 2.2699e+00, Loss_f: 3.6540e-03\n",
      "Epoch 3000, Loss: 1.9591e+00, Loss_u: 1.9564e+00, Loss_f: 2.6674e-03\n",
      "Epoch 3500, Loss: 1.7599e+00, Loss_u: 1.7571e+00, Loss_f: 2.7293e-03\n",
      "Epoch 4000, Loss: 1.6255e+00, Loss_u: 1.6229e+00, Loss_f: 2.5564e-03\n",
      "Epoch 4500, Loss: 1.6143e+00, Loss_u: 1.6118e+00, Loss_f: 2.5160e-03\n",
      "Epoch 5000, Loss: 1.6022e+00, Loss_u: 1.5995e+00, Loss_f: 2.7001e-03\n",
      "Epoch 5500, Loss: 1.5891e+00, Loss_u: 1.5863e+00, Loss_f: 2.7640e-03\n",
      "Epoch 6000, Loss: 1.5749e+00, Loss_u: 1.5725e+00, Loss_f: 2.4579e-03\n",
      "Epoch 6500, Loss: 1.5604e+00, Loss_u: 1.5583e+00, Loss_f: 2.1057e-03\n",
      "Epoch 7000, Loss: 1.5461e+00, Loss_u: 1.5441e+00, Loss_f: 2.0040e-03\n",
      "Epoch 7500, Loss: 1.5315e+00, Loss_u: 1.5295e+00, Loss_f: 1.9630e-03\n",
      "Epoch 8000, Loss: 1.5138e+00, Loss_u: 1.5123e+00, Loss_f: 1.4737e-03\n",
      "Epoch 8500, Loss: 1.5119e+00, Loss_u: 1.5105e+00, Loss_f: 1.4322e-03\n",
      "Epoch 9000, Loss: 1.5100e+00, Loss_u: 1.5086e+00, Loss_f: 1.3936e-03\n",
      "Epoch 9500, Loss: 1.5080e+00, Loss_u: 1.5067e+00, Loss_f: 1.3577e-03\n",
      "Epoch 10000, Loss: 1.5060e+00, Loss_u: 1.5047e+00, Loss_f: 1.3244e-03\n",
      "Epoch 10500, Loss: 1.5040e+00, Loss_u: 1.5027e+00, Loss_f: 1.2938e-03\n",
      "Epoch 11000, Loss: 1.5020e+00, Loss_u: 1.5008e+00, Loss_f: 1.2663e-03\n",
      "Epoch 11500, Loss: 1.5000e+00, Loss_u: 1.4988e+00, Loss_f: 1.2428e-03\n",
      "Epoch 12000, Loss: 1.4980e+00, Loss_u: 1.4968e+00, Loss_f: 1.2235e-03\n",
      "Epoch 12500, Loss: 1.4978e+00, Loss_u: 1.4966e+00, Loss_f: 1.2221e-03\n",
      "Epoch 13000, Loss: 1.4976e+00, Loss_u: 1.4964e+00, Loss_f: 1.2207e-03\n",
      "Epoch 13500, Loss: 1.4974e+00, Loss_u: 1.4962e+00, Loss_f: 1.2194e-03\n",
      "Epoch 14000, Loss: 1.4972e+00, Loss_u: 1.4960e+00, Loss_f: 1.2181e-03\n",
      "Epoch 14500, Loss: 1.4970e+00, Loss_u: 1.4958e+00, Loss_f: 1.2169e-03\n",
      "Epoch 15000, Loss: 1.4968e+00, Loss_u: 1.4956e+00, Loss_f: 1.2157e-03\n",
      "Epoch 15500, Loss: 1.4966e+00, Loss_u: 1.4954e+00, Loss_f: 1.2145e-03\n",
      "Epoch 16000, Loss: 1.4964e+00, Loss_u: 1.4952e+00, Loss_f: 1.2134e-03\n",
      "Epoch 16500, Loss: 1.4964e+00, Loss_u: 1.4952e+00, Loss_f: 1.2135e-03\n",
      "Epoch 17000, Loss: 1.4964e+00, Loss_u: 1.4952e+00, Loss_f: 1.2133e-03\n",
      "Epoch 17500, Loss: 1.4964e+00, Loss_u: 1.4952e+00, Loss_f: 1.2131e-03\n",
      "Epoch 18000, Loss: 1.4964e+00, Loss_u: 1.4952e+00, Loss_f: 1.2130e-03\n",
      "Epoch 18500, Loss: 1.4964e+00, Loss_u: 1.4952e+00, Loss_f: 1.2127e-03\n",
      "Epoch 19000, Loss: 1.4964e+00, Loss_u: 1.4952e+00, Loss_f: 1.2124e-03\n",
      "Epoch 19500, Loss: 1.4964e+00, Loss_u: 1.4952e+00, Loss_f: 1.2122e-03\n"
     ]
    }
   ],
   "source": [
    "iterations = 20000\n",
    "for epoch in range(iterations):\n",
    "    optimizer.zero_grad()\n",
    "    \n",
    "    PINN_S_bc = pinn.forward(X_bc, Y_bc)\n",
    "    MSE_U = mse_cost_function(PINN_S_bc, S_bc)\n",
    "\n",
    "    PINN_Residual = residual(X, Y, pinn)\n",
    "    MSE_F = mse_cost_function(PINN_Residual, S)\n",
    "\n",
    "    Loss = MSE_U + MSE_F\n",
    "\n",
    "    Loss.backward()\n",
    "    optimizer.step()\n",
    "    scheduler.step()\n",
    "\n",
    "    with torch.autograd.no_grad():\n",
    "        if epoch%500 == 0:\n",
    "            print('Epoch %d, Loss: %.4e, Loss_u: %.4e, Loss_f: %.4e' % (epoch, Loss, MSE_U, MSE_F))\n",
    "            current_lr = optimizer.param_groups[0]['lr']"
   ]
  },
  {
   "cell_type": "code",
   "execution_count": 9,
   "id": "50d965e9",
   "metadata": {},
   "outputs": [],
   "source": [
    "S = torch.zeros((N*N, 3))\n",
    "U = 1-(torch.exp(lamb*X))*(torch.cos(2*math.pi*Y))\n",
    "V = (lamb/(2*math.pi))*(torch.exp(lamb*X))*(torch.sin(2*math.pi*Y))\n",
    "P = (1/2)*(1-(torch.exp(2*lamb*X)))\n",
    "S[:,0:1] = torch.reshape(U, (U.shape[0],1))\n",
    "S[:,1:2] = torch.reshape(V, (V.shape[0],1))\n",
    "S[:,2:] = torch.reshape(P, (P.shape[0],1))"
   ]
  },
  {
   "cell_type": "code",
   "execution_count": 10,
   "id": "9e3b3b15",
   "metadata": {},
   "outputs": [
    {
     "name": "stdout",
     "output_type": "stream",
     "text": [
      "Relative L2 Error: 5.779780e-01\n"
     ]
    }
   ],
   "source": [
    "s_pred = pinn(X, Y)\n",
    "\n",
    "# Relative L2 Error\n",
    "error_s = torch.linalg.norm(S-s_pred,2)/torch.linalg.norm(S,2)\n",
    "print('Relative L2 Error: %e' % (error_s))"
   ]
  },
  {
   "cell_type": "code",
   "execution_count": 11,
   "id": "8a99415b",
   "metadata": {},
   "outputs": [],
   "source": [
    "u_test = torch.reshape(U, (N,N)).detach().numpy()\n",
    "v_test = torch.reshape(V, (N,N)).detach().numpy()\n",
    "p_test = torch.reshape(P, (N,N)).detach().numpy()\n",
    "u_pred = torch.reshape(s_pred[:,0], (N,N)).detach().numpy()\n",
    "v_pred = torch.reshape(s_pred[:,1], (N,N)).detach().numpy()\n",
    "p_pred = torch.reshape(s_pred[:,2], (N,N)).detach().numpy()"
   ]
  },
  {
   "cell_type": "code",
   "execution_count": 12,
   "id": "0f5f5d8c",
   "metadata": {},
   "outputs": [
    {
     "data": {
      "image/png": "[encoded data removed]",
      "text/plain": [
       "<Figure size 700x700 with 6 Axes>"
      ]
     },
     "metadata": {},
     "output_type": "display_data"
    }
   ],
   "source": [
    "fig, axs = plt.subplots(3, 2, figsize=(7, 7))\n",
    "axs[0, 0].imshow(u_test)\n",
    "axs[0, 0].set_title('analytical u')\n",
    "axs[1, 0].imshow(v_test)\n",
    "axs[1, 0].set_title('analytical v')\n",
    "axs[2, 0].imshow(p_test)\n",
    "axs[2, 0].set_title('analytical p')\n",
    "axs[0, 1].imshow(u_pred)\n",
    "axs[0, 1].set_title('learned u')\n",
    "axs[1, 1].imshow(v_pred)\n",
    "axs[1, 1].set_title('learned v')\n",
    "axs[2, 1].imshow(p_pred)\n",
    "axs[2, 1].set_title('learned p')\n",
    "fig.tight_layout()"
   ]
  },
  {
   "cell_type": "code",
   "execution_count": 13,
   "id": "1938d978",
   "metadata": {},
   "outputs": [
    {
     "name": "stdout",
     "output_type": "stream",
     "text": [
      "odict_keys(['layer1.weight', 'layer1.bias', 'layer2.weight', 'layer2.bias', 'layer3.weight', 'layer3.bias', 'layer4.weight', 'layer4.bias', 'layer5.weight', 'layer5.bias', 'output_layer.weight', 'output_layer.bias'])\n"
     ]
    }
   ],
   "source": [
    "params = pinn.state_dict()\n",
    "print(params.keys())"
   ]
  },
  {
   "cell_type": "code",
   "execution_count": 14,
   "id": "9abd2dc9",
   "metadata": {},
   "outputs": [],
   "source": [
    "flattened_weights = []\n",
    "for key in params.keys():\n",
    "    flattened_tensor = torch.reshape(params[key], (-1,)).tolist()\n",
    "    for val in flattened_tensor:\n",
    "        flattened_weights.append(val)\n",
    "weights_array = np.array(flattened_weights)\n",
    "np.savetxt('data/weights/weights_'+str(Re)+'.txt', weights_array)"
   ]
  }
 ],
 "metadata": {
  "kernelspec": {
   "display_name": "Python 3 (ipykernel)",
   "language": "python",
   "name": "python3"
  },
  "language_info": {
   "codemirror_mode": {
    "name": "ipython",
    "version": 3
   },
   "file_extension": ".py",
   "mimetype": "text/x-python",
   "name": "python",
   "nbconvert_exporter": "python",
   "pygments_lexer": "ipython3",
   "version": "3.10.9"
  }
 },
 "nbformat": 4,
 "nbformat_minor": 5
}
