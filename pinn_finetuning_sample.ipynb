{
 "cells": [
  {
   "cell_type": "code",
   "execution_count": 1,
   "id": "e80b29c5",
   "metadata": {},
   "outputs": [],
   "source": [
    "import math\n",
    "import pandas as pd\n",
    "import numpy as np\n",
    "import matplotlib.pyplot as plt\n",
    "import torch\n",
    "import torch.nn as nn\n",
    "import torch.nn.functional as F\n",
    "import torch.optim as optim\n",
    "import torch.optim.lr_scheduler as lr_scheduler\n",
    "from torch.autograd import Variable\n",
    "\n",
    "device = torch.device(\"cuda\" if torch.cuda.is_available() else \"cpu\")\n",
    "random_seed = 1\n",
    "torch.manual_seed(random_seed)\n",
    "torch.cuda.manual_seed(random_seed)\n",
    "torch.backends.cudnn.deterministic = True\n",
    "torch.backends.cudnn.benchmark = False\n",
    "np.random.seed(random_seed)"
   ]
  },
  {
   "cell_type": "code",
   "execution_count": 2,
   "id": "4ea2bd2b",
   "metadata": {},
   "outputs": [],
   "source": [
    "xmin = -0.5\n",
    "xmax = 1\n",
    "ymin = -0.5\n",
    "ymax = 1.5\n",
    "N = 50\n",
    "N_bc = 80\n",
    "Re = 10\n",
    "Re_in = 100\n",
    "nu = 1 / Re\n",
    "lamb = 1 / (2 * nu) - np.sqrt(1 / (4 * nu ** 2) + 4 * np.pi ** 2)"
   ]
  },
  {
   "cell_type": "code",
   "execution_count": 3,
   "id": "68015b05",
   "metadata": {},
   "outputs": [],
   "source": [
    "dx = (xmax-xmin)/(N_bc)\n",
    "dy = (ymax-ymin)/(N_bc)\n",
    "x_data = np.arange(xmin+dx, xmax, dx)\n",
    "y_data = np.arange(ymin+dy, ymax, dy)\n",
    "#print(dx)\n",
    "#print(dy)\n",
    "#print(\"X_data: \", x_data)\n",
    "#print(\"Y_data: \", y_data)\n",
    "\n",
    "x = []\n",
    "y = []\n",
    "x.append(xmin)\n",
    "y.append(ymin)\n",
    "x.append(xmin)\n",
    "y.append(ymax)\n",
    "x.append(xmax)\n",
    "y.append(ymin)\n",
    "x.append(xmax)\n",
    "y.append(ymax)\n",
    "for i in range(N_bc-1):\n",
    "    x.append(xmin)\n",
    "    y.append(y_data[i])\n",
    "    x.append(xmax)\n",
    "    y.append(y_data[i])\n",
    "    x.append(x_data[i])\n",
    "    y.append(ymin)\n",
    "    x.append(x_data[i])\n",
    "    y.append(ymax)\n",
    "\n",
    "x = np.array(x, dtype=float)\n",
    "y = np.array(y, dtype=float)\n",
    "X_bc = np.ndarray.reshape(x, (x.shape[0],1))\n",
    "Y_bc = np.ndarray.reshape(y, (y.shape[0],1))\n",
    "\n",
    "S_bc = np.zeros((4*N_bc, 3))\n",
    "U_bc = 1-(np.exp(lamb*X_bc))*(np.cos(2*math.pi*Y_bc))\n",
    "V_bc = (lamb/(2*math.pi))*(np.exp(lamb*X_bc))*(np.sin(2*math.pi*Y_bc))\n",
    "P_bc = (1/2)*(1-(np.exp(2*lamb*X_bc)))\n",
    "S_bc[:,0:1] = np.ndarray.reshape(U_bc, (U_bc.shape[0],1))\n",
    "S_bc[:,1:2] = np.ndarray.reshape(V_bc, (V_bc.shape[0],1))\n",
    "S_bc[:,2:] = np.ndarray.reshape(P_bc, (P_bc.shape[0],1))\n",
    "\n",
    "#print(\"X_bc: \", X_bc.shape)\n",
    "#print(\"Y_bc: \", Y_bc.shape)\n",
    "\n",
    "# print(\"X_bc: \", x_bc)\n",
    "# print(\"Y_bc: \", y_bc)\n",
    "\n",
    "# for i in range(4*N):\n",
    "#     print(x_bc[i], \" \", y_bc[i])"
   ]
  },
  {
   "cell_type": "code",
   "execution_count": 4,
   "id": "4a0f939c",
   "metadata": {},
   "outputs": [],
   "source": [
    "X_bc = Variable(torch.from_numpy(X_bc).float(), requires_grad=False).to(device)\n",
    "Y_bc = Variable(torch.from_numpy(Y_bc).float(), requires_grad=False).to(device)\n",
    "S_bc = Variable(torch.from_numpy(S_bc).float(), requires_grad=False).to(device)\n",
    "\n",
    "x = np.arange(xmin, xmax, (xmax-xmin)/N)\n",
    "y = np.arange(ymin, ymax, (ymax-ymin)/N)\n",
    "X, Y = np.meshgrid(x,y)\n",
    "X = X.flatten()[:,None]\n",
    "Y = Y.flatten()[:,None]\n",
    "F = np.zeros_like(X)\n",
    "\n",
    "X = Variable(torch.from_numpy(X).float(), requires_grad=True).to(device)\n",
    "Y = Variable(torch.from_numpy(Y).float(), requires_grad=True).to(device)\n",
    "F = Variable(torch.from_numpy(F).float(), requires_grad=True).to(device)"
   ]
  },
  {
   "cell_type": "code",
   "execution_count": 5,
   "id": "7ee231cf",
   "metadata": {},
   "outputs": [],
   "source": [
    "class PINN(nn.Module):\n",
    "    def __init__(self):\n",
    "        super(PINN, self).__init__()\n",
    "        self.layer1 = nn.Linear(2,20)\n",
    "        self.layer2 = nn.Linear(20,20)\n",
    "        self.layer3 = nn.Linear(20,20)\n",
    "        self.layer4 = nn.Linear(20,20)\n",
    "        self.layer5 = nn.Linear(20,20)\n",
    "        self.layer6 = nn.Linear(20,20)\n",
    "        self.output_layer = nn.Linear(20,3)\n",
    "\n",
    "    def forward(self, x, y): \n",
    "        inputs = torch.cat([x, y], axis=1)\n",
    "        layer1_out = torch.tanh(self.layer1(inputs))\n",
    "        layer2_out = torch.tanh(self.layer2(layer1_out))\n",
    "        layer3_out = torch.tanh(self.layer3(layer2_out))\n",
    "        layer4_out = torch.tanh(self.layer4(layer3_out))\n",
    "        layer5_out = torch.tanh(self.layer5(layer4_out))\n",
    "        layer6_out = torch.tanh(self.layer6(layer5_out))\n",
    "        output = self.output_layer(layer6_out) \n",
    "        return output"
   ]
  },
  {
   "cell_type": "code",
   "execution_count": 6,
   "id": "65b8b9c2",
   "metadata": {},
   "outputs": [],
   "source": [
    "pinn = PINN()\n",
    "pinn = pinn.to(device)\n",
    "pinn.load_state_dict(torch.load('pinns/pretrained/weights/model_'+str(Re_in)+'.pt'), strict=False)\n",
    "pinn.train()\n",
    "mse_cost_function = nn.MSELoss() \n",
    "optimizer = torch.optim.Adam(pinn.parameters(), lr=1e-3)\n",
    "scheduler = lr_scheduler.StepLR(optimizer, step_size=5000, gamma=0.1, last_epoch=-1, verbose=False)"
   ]
  },
  {
   "cell_type": "code",
   "execution_count": 7,
   "id": "d00f4434",
   "metadata": {},
   "outputs": [],
   "source": [
    "def residual(x, y, pinn):\n",
    "    s = pinn.forward(x, y)\n",
    "    u = s[:,0:1]\n",
    "    v = s[:,1:2]\n",
    "    p = s[:,2:]\n",
    "\n",
    "    du_dx = torch.autograd.grad(u.sum(), x, create_graph=True)[0]\n",
    "    dv_dx = torch.autograd.grad(v.sum(), x, create_graph=True)[0]\n",
    "    dp_dx = torch.autograd.grad(p.sum(), x, create_graph=True)[0]\n",
    "\n",
    "    du_dy = torch.autograd.grad(u.sum(), y, create_graph=True)[0]\n",
    "    dv_dy = torch.autograd.grad(v.sum(), y, create_graph=True)[0]\n",
    "    dp_dy = torch.autograd.grad(p.sum(), y, create_graph=True)[0]\n",
    "\n",
    "    du_dxx = torch.autograd.grad(du_dx.sum(), x, create_graph=True)[0]\n",
    "    dv_dxx = torch.autograd.grad(dv_dx.sum(), x, create_graph=True)[0]\n",
    "    du_dyy = torch.autograd.grad(du_dy.sum(), y, create_graph=True)[0]\n",
    "    dv_dyy = torch.autograd.grad(dv_dy.sum(), y, create_graph=True)[0]\n",
    "\n",
    "    f1 = u*du_dx + v*du_dy + dp_dx - nu*(du_dxx + du_dyy)\n",
    "    f2 = u*dv_dx + v*dv_dy + dp_dy - nu*(dv_dxx + dv_dyy)\n",
    "    f3 = du_dx + dv_dy\n",
    "    f = f1 + f2 + f3\n",
    "    return f"
   ]
  },
  {
   "cell_type": "code",
   "execution_count": 8,
   "id": "a27b2195",
   "metadata": {},
   "outputs": [
    {
     "name": "stdout",
     "output_type": "stream",
     "text": [
      "Epoch 0, LR: 1.0000e-03, Loss: 1.4544e+01, Data Loss: 9.2991e+00, Physics Loss: 5.2449e+00\n"
     ]
    },
    {
     "name": "stderr",
     "output_type": "stream",
     "text": [
      "C:\\Users\\ameyv\\anaconda3\\envs\\amey-pinn\\lib\\site-packages\\torch\\autograd\\__init__.py:197: UserWarning: grad and param do not obey the gradient layout contract. This is not an error, but may impair performance.\n",
      "grad.sizes() = [2500, 1], strides() = [1, 0]\n",
      "param.sizes() = [2500, 1], strides() = [1, 0] (Triggered internally at C:\\cb\\pytorch_1000000000000\\work\\torch/csrc/autograd/functions/accumulate_grad.h:202.)\n",
      "  Variable._execution_engine.run_backward(  # Calls into the C++ engine to run the backward pass\n"
     ]
    },
    {
     "name": "stdout",
     "output_type": "stream",
     "text": [
      "Epoch 1000, LR: 1.0000e-03, Loss: 3.5264e-01, Data Loss: 3.2073e-01, Physics Loss: 3.1911e-02\n",
      "Epoch 2000, LR: 1.0000e-03, Loss: 1.7330e-01, Data Loss: 1.5979e-01, Physics Loss: 1.3507e-02\n",
      "Epoch 3000, LR: 1.0000e-03, Loss: 8.7239e-02, Data Loss: 7.7372e-02, Physics Loss: 9.8679e-03\n",
      "Epoch 4000, LR: 1.0000e-03, Loss: 4.7310e-02, Data Loss: 3.9739e-02, Physics Loss: 7.5710e-03\n",
      "Epoch 5000, LR: 1.0000e-04, Loss: 2.9960e-02, Data Loss: 2.4074e-02, Physics Loss: 5.8855e-03\n",
      "Epoch 6000, LR: 1.0000e-04, Loss: 2.8447e-02, Data Loss: 2.2699e-02, Physics Loss: 5.7481e-03\n",
      "Epoch 7000, LR: 1.0000e-04, Loss: 2.6284e-02, Data Loss: 2.0784e-02, Physics Loss: 5.4998e-03\n",
      "Epoch 8000, LR: 1.0000e-04, Loss: 2.3380e-02, Data Loss: 1.8270e-02, Physics Loss: 5.1103e-03\n",
      "Epoch 9000, LR: 1.0000e-04, Loss: 1.9826e-02, Data Loss: 1.5275e-02, Physics Loss: 4.5512e-03\n",
      "Epoch 10000, LR: 1.0000e-05, Loss: 1.6330e-02, Data Loss: 1.2408e-02, Physics Loss: 3.9212e-03\n",
      "Epoch 11000, LR: 1.0000e-05, Loss: 1.5944e-02, Data Loss: 1.2109e-02, Physics Loss: 3.8357e-03\n",
      "Epoch 12000, LR: 1.0000e-05, Loss: 1.5372e-02, Data Loss: 1.1653e-02, Physics Loss: 3.7184e-03\n",
      "Epoch 13000, LR: 1.0000e-05, Loss: 1.4545e-02, Data Loss: 1.1003e-02, Physics Loss: 3.5419e-03\n",
      "Epoch 14000, LR: 1.0000e-05, Loss: 1.3432e-02, Data Loss: 1.0138e-02, Physics Loss: 3.2940e-03\n",
      "Epoch 15000, LR: 1.0000e-06, Loss: 1.2100e-02, Data Loss: 9.1122e-03, Physics Loss: 2.9875e-03\n",
      "Epoch 16000, LR: 1.0000e-06, Loss: 1.1944e-02, Data Loss: 8.9934e-03, Physics Loss: 2.9509e-03\n",
      "Epoch 17000, LR: 1.0000e-06, Loss: 1.1744e-02, Data Loss: 8.8395e-03, Physics Loss: 2.9042e-03\n",
      "Epoch 18000, LR: 1.0000e-06, Loss: 1.1501e-02, Data Loss: 8.6522e-03, Physics Loss: 2.8491e-03\n",
      "Epoch 19000, LR: 1.0000e-06, Loss: 1.1225e-02, Data Loss: 8.4376e-03, Physics Loss: 2.7876e-03\n",
      "Epoch 20000, LR: 1.0000e-07, Loss: 1.0926e-02, Data Loss: 8.2041e-03, Physics Loss: 2.7214e-03\n",
      "Epoch 21000, LR: 1.0000e-07, Loss: 1.0893e-02, Data Loss: 8.1788e-03, Physics Loss: 2.7142e-03\n",
      "Epoch 22000, LR: 1.0000e-07, Loss: 1.0858e-02, Data Loss: 8.1517e-03, Physics Loss: 2.7064e-03\n",
      "Epoch 23000, LR: 1.0000e-07, Loss: 1.0822e-02, Data Loss: 8.1234e-03, Physics Loss: 2.6985e-03\n",
      "Epoch 24000, LR: 1.0000e-07, Loss: 1.0785e-02, Data Loss: 8.0941e-03, Physics Loss: 2.6906e-03\n",
      "Epoch 25000, LR: 1.0000e-08, Loss: 1.0747e-02, Data Loss: 8.0647e-03, Physics Loss: 2.6827e-03\n",
      "Epoch 26000, LR: 1.0000e-08, Loss: 1.0745e-02, Data Loss: 8.0631e-03, Physics Loss: 2.6823e-03\n",
      "Epoch 27000, LR: 1.0000e-08, Loss: 1.0743e-02, Data Loss: 8.0616e-03, Physics Loss: 2.6818e-03\n",
      "Epoch 28000, LR: 1.0000e-08, Loss: 1.0741e-02, Data Loss: 8.0601e-03, Physics Loss: 2.6812e-03\n",
      "Epoch 29000, LR: 1.0000e-08, Loss: 1.0739e-02, Data Loss: 8.0587e-03, Physics Loss: 2.6807e-03\n"
     ]
    }
   ],
   "source": [
    "iterations = 30000\n",
    "for epoch in range(iterations):\n",
    "    optimizer.zero_grad()\n",
    "    \n",
    "    PINN_S_bc = pinn.forward(X_bc, Y_bc)\n",
    "    MSE_U = mse_cost_function(PINN_S_bc, S_bc)\n",
    "\n",
    "    PINN_Residual = residual(X, Y, pinn)\n",
    "    MSE_F = mse_cost_function(PINN_Residual, F)\n",
    "\n",
    "    Loss = MSE_U + MSE_F\n",
    "\n",
    "    Loss.backward()\n",
    "    optimizer.step()\n",
    "    scheduler.step()\n",
    "\n",
    "    with torch.autograd.no_grad():\n",
    "        if epoch%1000 == 0:\n",
    "            current_lr = optimizer.param_groups[0]['lr']\n",
    "            print('Epoch %d, LR: %.4e, Loss: %.4e, Data Loss: %.4e, Physics Loss: %.4e' % (epoch, current_lr, Loss, MSE_U, MSE_F))"
   ]
  },
  {
   "cell_type": "code",
   "execution_count": 9,
   "id": "7702ae07",
   "metadata": {},
   "outputs": [],
   "source": [
    "S = torch.zeros((N*N, 3))\n",
    "U = 1-(torch.exp(lamb*X))*(torch.cos(2*math.pi*Y))\n",
    "V = (lamb/(2*math.pi))*(torch.exp(lamb*X))*(torch.sin(2*math.pi*Y))\n",
    "P = (1/2)*(1-(torch.exp(2*lamb*X)))\n",
    "S[:,0:1] = torch.reshape(U, (U.shape[0],1))\n",
    "S[:,1:2] = torch.reshape(V, (V.shape[0],1))\n",
    "S[:,2:] = torch.reshape(P, (P.shape[0],1))"
   ]
  },
  {
   "cell_type": "code",
   "execution_count": 10,
   "id": "3cb0bf89",
   "metadata": {},
   "outputs": [
    {
     "name": "stdout",
     "output_type": "stream",
     "text": [
      "Mean L2 Error: 2.356784e+01\n",
      "Relative L2 Error: 1.897449e-01\n"
     ]
    }
   ],
   "source": [
    "s_pred = pinn(X, Y)\n",
    "# Mean L2 Error\n",
    "error = torch.linalg.norm(S-s_pred,2)\n",
    "print('Mean L2 Error: %e' % (error))\n",
    "\n",
    "# Relative L2 Error\n",
    "error_s = torch.linalg.norm(S-s_pred,2)/torch.linalg.norm(S,2)\n",
    "print('Relative L2 Error: %e' % (error_s))"
   ]
  },
  {
   "cell_type": "code",
   "execution_count": 11,
   "id": "263bbad7",
   "metadata": {},
   "outputs": [],
   "source": [
    "u_test = torch.reshape(U, (N,N)).detach().numpy()\n",
    "v_test = torch.reshape(V, (N,N)).detach().numpy()\n",
    "p_test = torch.reshape(P, (N,N)).detach().numpy()\n",
    "u_pred = torch.reshape(s_pred[:,0], (N,N)).detach().numpy()\n",
    "v_pred = torch.reshape(s_pred[:,1], (N,N)).detach().numpy()\n",
    "p_pred = torch.reshape(s_pred[:,2], (N,N)).detach().numpy()"
   ]
  },
  {
   "cell_type": "code",
   "execution_count": 12,
   "id": "565a2f51",
   "metadata": {},
   "outputs": [
    {
     "data": {
      "image/png": "[encoded data removed]",
      "text/plain": [
       "<Figure size 700x700 with 6 Axes>"
      ]
     },
     "metadata": {},
     "output_type": "display_data"
    }
   ],
   "source": [
    "fig, axs = plt.subplots(3, 2, figsize=(7, 7))\n",
    "axs[0, 0].imshow(u_test)\n",
    "axs[0, 0].set_title('analytical u')\n",
    "axs[1, 0].imshow(v_test)\n",
    "axs[1, 0].set_title('analytical v')\n",
    "axs[2, 0].imshow(p_test)\n",
    "axs[2, 0].set_title('analytical p')\n",
    "axs[0, 1].imshow(u_pred)\n",
    "axs[0, 1].set_title('learned u')\n",
    "axs[1, 1].imshow(v_pred)\n",
    "axs[1, 1].set_title('learned v')\n",
    "axs[2, 1].imshow(p_pred)\n",
    "axs[2, 1].set_title('learned p')\n",
    "fig.tight_layout()"
   ]
  },
  {
   "cell_type": "code",
   "execution_count": 13,
   "id": "9563eef0",
   "metadata": {},
   "outputs": [],
   "source": [
    "fig.savefig(\"dump/finetuned_Re_\"+str(Re)+\".pdf\", bbox_inches='tight')"
   ]
  }
 ],
 "metadata": {
  "kernelspec": {
   "display_name": "Python 3 (ipykernel)",
   "language": "python",
   "name": "python3"
  },
  "language_info": {
   "codemirror_mode": {
    "name": "ipython",
    "version": 3
   },
   "file_extension": ".py",
   "mimetype": "text/x-python",
   "name": "python",
   "nbconvert_exporter": "python",
   "pygments_lexer": "ipython3",
   "version": "3.10.9"
  }
 },
 "nbformat": 4,
 "nbformat_minor": 5
}
