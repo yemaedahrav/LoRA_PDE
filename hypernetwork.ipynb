{
 "cells": [
  {
   "cell_type": "code",
   "execution_count": null,
   "id": "62cb1379",
   "metadata": {},
   "outputs": [],
   "source": [
    "import math\n",
    "import torch\n",
    "import torch.nn as nn\n",
    "\n",
    "import pandas as pd\n",
    "import seaborn as sns\n",
    "import numpy as np\n",
    "\n",
    "import matplotlib.pyplot as plt\n",
    "from collections import OrderedDict\n",
    "\n",
    "sns.set_style(\"white\")\n",
    "device = torch.device(\"cuda:0\" if torch.cuda.is_available() else \"cpu\")"
   ]
  },
  {
   "cell_type": "code",
   "execution_count": null,
   "id": "9ca5ad6e",
   "metadata": {},
   "outputs": [],
   "source": [
    "inputs = np.arange(21,101,1)\n",
    "outputs = np.zeros((80, 1803))\n",
    "for Re in range(21,101,1):\n",
    "    outputs[Re] = np.loadtxt('data/weights/weights_'+str(Re)+'.txt')"
   ]
  },
  {
   "cell_type": "code",
   "execution_count": null,
   "id": "96dd2e9a",
   "metadata": {},
   "outputs": [],
   "source": [
    "class HyperNetwork(nn.Module):\n",
    "    def __init__(self):\n",
    "        super(HyperNetwork, self).__init__()\n",
    "        \n",
    "        self.layers = nn.Sequential(nn.Linear(1,512),\n",
    "                      nn.ReLU(),             \n",
    "                      nn.Linear(512,256),\n",
    "                      nn.ReLU(),\n",
    "                      nn.Linear(256,256),\n",
    "                      nn.ReLU(),\n",
    "                      nn.Linear(256,128),\n",
    "                      nn.ReLU(),\n",
    "                      nn.Linear(128,1803))    \n",
    "        \n",
    "    def forward(self, Re):        \n",
    "        weights = self.layers(Re)\n",
    "        return weights"
   ]
  },
  {
   "cell_type": "code",
   "execution_count": null,
   "id": "cd7f6b08",
   "metadata": {},
   "outputs": [],
   "source": [
    "hnet = HyperNetwork()\n",
    "hnet = hnet.to(device)\n",
    "mse_cost_function = nn.MSELoss() \n",
    "optimizer = torch.optim.Adam(hnet.parameters())"
   ]
  },
  {
   "cell_type": "code",
   "execution_count": null,
   "id": "4585068b",
   "metadata": {},
   "outputs": [],
   "source": [
    "iterations = 5000\n",
    "for epoch in range(iterations):\n",
    "    optimizer.zero_grad()\n",
    "    \n",
    "    hnet_out = hnet.forward(inputs)\n",
    "    Loss = mse_cost_function(hnet_out, outputs)\n",
    "    Loss.backward()\n",
    "    optimizer.step()\n",
    "\n",
    "    with torch.autograd.no_grad():\n",
    "        if epoch%100 == 0:\n",
    "            print('Iter %d, Loss: %.4e, Loss_u: %.4e, Loss_f: %.4e' % (epoch, Loss))"
   ]
  }
 ],
 "metadata": {
  "kernelspec": {
   "display_name": "Python 3 (ipykernel)",
   "language": "python",
   "name": "python3"
  },
  "language_info": {
   "codemirror_mode": {
    "name": "ipython",
    "version": 3
   },
   "file_extension": ".py",
   "mimetype": "text/x-python",
   "name": "python",
   "nbconvert_exporter": "python",
   "pygments_lexer": "ipython3",
   "version": "3.10.9"
  }
 },
 "nbformat": 4,
 "nbformat_minor": 5
}
