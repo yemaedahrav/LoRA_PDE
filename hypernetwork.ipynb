{
 "cells": [
  {
   "cell_type": "code",
   "execution_count": 1,
   "id": "62cb1379",
   "metadata": {},
   "outputs": [],
   "source": [
    "import math\n",
    "import torch\n",
    "import torch.nn as nn\n",
    "from torch.autograd import Variable\n",
    "import torch.optim.lr_scheduler as lr_scheduler\n",
    "import torch.nn.functional as F\n",
    "\n",
    "import pandas as pd\n",
    "import seaborn as sns\n",
    "import numpy as np\n",
    "import h5py\n",
    "\n",
    "import matplotlib.pyplot as plt\n",
    "from collections import OrderedDict\n",
    "\n",
    "sns.set_style(\"white\")\n",
    "device = torch.device(\"cuda:0\" if torch.cuda.is_available() else \"cpu\")"
   ]
  },
  {
   "cell_type": "code",
   "execution_count": 2,
   "id": "4605093c",
   "metadata": {},
   "outputs": [],
   "source": [
    "device = torch.device(\"cuda\" if torch.cuda.is_available() else \"cpu\")\n",
    "random_seed = 1\n",
    "torch.manual_seed(random_seed)\n",
    "torch.cuda.manual_seed(random_seed)\n",
    "torch.backends.cudnn.deterministic = True\n",
    "torch.backends.cudnn.benchmark = False\n",
    "np.random.seed(random_seed)"
   ]
  },
  {
   "cell_type": "code",
   "execution_count": 3,
   "id": "9ca5ad6e",
   "metadata": {},
   "outputs": [],
   "source": [
    "# The reynolds numbers from 10 to 90 are used for training \n",
    "# The model is evaluated on the last 10 reynolds numbers from 91 to 100\n",
    "\n",
    "outputs = np.zeros((90-10+1, 2223))\n",
    "for Re in range(10,91,1):\n",
    "    outputs[Re-10] = np.loadtxt('pinns/pretrained/weights/weights_'+str(Re)+'.txt')\n",
    "    \n",
    "# Inputs represent the reynolds numbers used for training\n",
    "# Outputs are the outputs of the hypernetwork which are the weights of the PINN\n",
    "inputs = np.arange(10,91,1)\n",
    "inputs = np.reshape(inputs, (inputs.shape[0],1))\n",
    "inputs = Variable(torch.from_numpy(inputs).float(), requires_grad=False).to(device)\n",
    "outputs = Variable(torch.from_numpy(outputs).float(), requires_grad=False).to(device)\n",
    "#print(\"inputs\", inputs.shape)\n",
    "#print(\"outputs\", outputs.shape)"
   ]
  },
  {
   "cell_type": "code",
   "execution_count": 4,
   "id": "96dd2e9a",
   "metadata": {},
   "outputs": [],
   "source": [
    "class HyperNetwork(nn.Module):\n",
    "    def __init__(self):\n",
    "        super(HyperNetwork, self).__init__()\n",
    "        \n",
    "        self.layers = nn.Sequential(nn.Linear(1,512),\n",
    "                      nn.ReLU(),\n",
    "                      nn.Linear(512,512),\n",
    "                      nn.ReLU(),\n",
    "                      nn.Linear(512,256),\n",
    "                      nn.ReLU(),\n",
    "                      nn.Linear(256,256),\n",
    "                      nn.ReLU(),\n",
    "                      nn.Linear(256,128),\n",
    "                      nn.ReLU(),\n",
    "                      nn.Linear(128,2223))    \n",
    "        \n",
    "    def forward(self, Re):        \n",
    "        weights = self.layers(Re)\n",
    "        return weights"
   ]
  },
  {
   "cell_type": "code",
   "execution_count": 5,
   "id": "cd7f6b08",
   "metadata": {},
   "outputs": [],
   "source": [
    "hnet = HyperNetwork()\n",
    "hnet = hnet.to(device)\n",
    "mse_cost_function = nn.MSELoss() \n",
    "optimizer = torch.optim.Adam(hnet.parameters(), lr=1e-3)\n",
    "scheduler = lr_scheduler.StepLR(optimizer, step_size=10000, gamma=0.1, last_epoch=-1, verbose=False)"
   ]
  },
  {
   "cell_type": "code",
   "execution_count": null,
   "id": "4585068b",
   "metadata": {},
   "outputs": [
    {
     "name": "stdout",
     "output_type": "stream",
     "text": [
      "Epoch 0, LR: 1.0000e-03, Loss: 3.4437e-01\n",
      "Epoch 1000, LR: 1.0000e-03, Loss: 1.1520e-01\n",
      "Epoch 2000, LR: 1.0000e-03, Loss: 1.1147e-01\n",
      "Epoch 3000, LR: 1.0000e-03, Loss: 9.6513e-02\n",
      "Epoch 4000, LR: 1.0000e-03, Loss: 1.0591e-01\n",
      "Epoch 5000, LR: 1.0000e-03, Loss: 9.4622e-02\n"
     ]
    }
   ],
   "source": [
    "iterations = 50000\n",
    "for epoch in range(iterations):\n",
    "    optimizer.zero_grad()\n",
    "    \n",
    "    hnet_out = hnet.forward(inputs)\n",
    "    Loss = mse_cost_function(hnet_out, outputs)\n",
    "    Loss.backward()\n",
    "    optimizer.step()\n",
    "    scheduler.step()\n",
    "\n",
    "    with torch.autograd.no_grad():\n",
    "        if epoch%1000 == 0:\n",
    "            current_lr = optimizer.param_groups[0]['lr']\n",
    "            print('Epoch %d, LR: %.4e, Loss: %.4e' % (epoch, current_lr, Loss))"
   ]
  },
  {
   "cell_type": "code",
   "execution_count": null,
   "id": "049ff99b",
   "metadata": {},
   "outputs": [],
   "source": [
    "# outputs = np.zeros((10, 2223))\n",
    "# for Re in range(91,101,1):\n",
    "#     outputs[Re-91] = np.loadtxt('pinns/pretrained/weights/weights_'+str(Re)+'.txt')\n",
    "    \n",
    "# inputs = np.arange(91,101,1)\n",
    "# inputs = np.reshape(inputs, (inputs.shape[0],1))\n",
    "# inputs = Variable(torch.from_numpy(inputs).float(), requires_grad=False).to(device)\n",
    "# outputs = Variable(torch.from_numpy(outputs).float(), requires_grad=False).to(device)\n",
    "# pred_outputs = hnet.forward(inputs)\n",
    "# L2_error = torch.linalg.norm(outputs-pred_outputs,2)/torch.linalg.norm(outputs,2)\n",
    "# print('Relative L2 Error: %e \\n' % (L2_error))"
   ]
  },
  {
   "cell_type": "code",
   "execution_count": null,
   "id": "8f4bffc3",
   "metadata": {},
   "outputs": [],
   "source": [
    "class PINN(nn.Module):\n",
    "    def __init__(self):\n",
    "        super(PINN, self).__init__()\n",
    "    \n",
    "    def forward(self, weights, x):\n",
    "        h = F.tanh(F.linear(x, weight = weights[0, :40].view(20, 2), bias = weights[0, 40:60].view(20)))\n",
    "        i = 60\n",
    "        for _ in range(5):\n",
    "            h = F.tanh(F.linear(h, weight = weights[0, i:i+400].view(20, 20), bias = weights[0, i+400:i+420].view(20)))\n",
    "            i += 420\n",
    "        h = F.linear(h, weight = weights[0, i:i+60].view(3, 20), bias = weights[0, i+20:i+23].view(3))\n",
    "        return h"
   ]
  },
  {
   "cell_type": "code",
   "execution_count": null,
   "id": "ea0e6bfd",
   "metadata": {},
   "outputs": [],
   "source": [
    "pinn = PINN()\n",
    "\n",
    "f = h5py.File('data/colocation_points.h5', 'r')\n",
    "X_col = f['X_col']\n",
    "Y_col = f['Y_col']\n",
    "X_col = np.asarray(X_col)\n",
    "Y_col = np.asarray(Y_col)\n",
    "X_col = Variable(torch.from_numpy(X_col).float(), requires_grad=True).to(device)\n",
    "Y_col = Variable(torch.from_numpy(Y_col).float(), requires_grad=True).to(device)\n",
    "inputs = torch.cat([X_col, Y_col], axis=1)\n",
    "f.close()\n",
    "\n",
    "for Re in range(91,101,1):\n",
    "    Re_tensor = torch.tensor(Re, dtype=torch.float32).view(1,1)\n",
    "    predicted_weights = hnet.forward(Re_tensor)\n",
    "    predicted_solution = pinn.forward(predicted_weights, inputs)\n",
    "    \n",
    "    f = h5py.File('data/Analytical_Solutions/colocation/Re_{}.h5'.format(Re), 'r')\n",
    "    S_col = f['S_col']\n",
    "    S_col = np.asarray(S_col)\n",
    "    analytical_solution = Variable(torch.from_numpy(S_col).float(), requires_grad=True).to(device)\n",
    "    f.close()\n",
    "    \n",
    "    print(\"Re: \", Re)\n",
    "    # Mean L2 Error\n",
    "    error = torch.linalg.norm(analytical_solution-predicted_solution,2)\n",
    "    print('Mean L2 Error: %.4e \\n' % (error))\n",
    "    # Relative L2 Error\n",
    "    L2_error = torch.linalg.norm(analytical_solution-predicted_solution,2)/torch.linalg.norm(analytical_solution,2)\n",
    "    print('Relative L2 Error: %.4e \\n' % (L2_error))"
   ]
  }
 ],
 "metadata": {
  "kernelspec": {
   "display_name": "Python 3 (ipykernel)",
   "language": "python",
   "name": "python3"
  },
  "language_info": {
   "codemirror_mode": {
    "name": "ipython",
    "version": 3
   },
   "file_extension": ".py",
   "mimetype": "text/x-python",
   "name": "python",
   "nbconvert_exporter": "python",
   "pygments_lexer": "ipython3",
   "version": "3.10.9"
  }
 },
 "nbformat": 4,
 "nbformat_minor": 5
}
