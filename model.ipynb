{
 "cells": [
  {
   "cell_type": "code",
   "execution_count": 1,
   "metadata": {},
   "outputs": [
    {
     "name": "stderr",
     "output_type": "stream",
     "text": [
      "C:\\Users\\ameyv\\anaconda3\\envs\\amey-pinn\\lib\\site-packages\\tqdm\\auto.py:22: TqdmWarning: IProgress not found. Please update jupyter and ipywidgets. See https://ipywidgets.readthedocs.io/en/stable/user_install.html\n",
      "  from .autonotebook import tqdm as notebook_tqdm\n"
     ]
    }
   ],
   "source": [
    "import math\n",
    "import torch\n",
    "import torch.nn as nn\n",
    "import torch.nn.functional as F\n",
    "\n",
    "import pandas as pd\n",
    "import seaborn as sns\n",
    "import numpy as np\n",
    "import h5py\n",
    "\n",
    "import matplotlib.pyplot as plt\n",
    "import matplotlib.gridspec as gridspec\n",
    "from mpl_toolkits.axes_grid1 import make_axes_locatable\n",
    "from scipy.interpolate import griddata\n",
    "from collections import OrderedDict\n",
    "\n",
    "sns.set_style(\"white\")\n",
    "\n",
    "if torch.cuda.is_available():\n",
    "    device = torch.device('cuda')\n",
    "else:\n",
    "    device = torch.device('cpu')"
   ]
  },
  {
   "cell_type": "code",
   "execution_count": 2,
   "metadata": {},
   "outputs": [],
   "source": [
    "# Multi-Layer-Perceptron(MLP) architecture for our Physics Informed Neural Network(PINN)\n",
    "class MLP(torch.nn.Module):\n",
    "    def __init__(self, layers):\n",
    "        super(MLP, self).__init__()\n",
    "        \n",
    "        self.depth = len(layers) - 1\n",
    "        self.activation = torch.nn.Tanh\n",
    "        \n",
    "        layer_list = list()\n",
    "        for i in range(self.depth - 1): \n",
    "            layer_list.append(('layer_%d' % i, torch.nn.Linear(layers[i], layers[i+1])))\n",
    "            layer_list.append(('activation_%d' % i, self.activation()))\n",
    "        layer_list.append(('layer_%d' % (self.depth - 1), torch.nn.Linear(layers[-2], layers[-1])))\n",
    "        \n",
    "        layerDict = OrderedDict(layer_list)\n",
    "        self.layers = torch.nn.Sequential(layerDict)\n",
    "        \n",
    "    def forward(self, x, y):\n",
    "        xy = torch.cat([x, y], dim=1)\n",
    "        out = self.layers(xy)\n",
    "        return out"
   ]
  },
  {
   "cell_type": "code",
   "execution_count": 17,
   "metadata": {},
   "outputs": [],
   "source": [
    "# Class for the actual PINN containing training and other details\n",
    "class PINN():\n",
    "    def __init__(self, X_bc, Y_bc, S_bc, X, Y, layers, xmin, xmax, ymin, ymax, Re):\n",
    "\n",
    "        # Boundary Conditions (Domain Boundaries)\n",
    "        self.xmin = torch.tensor(xmin).float().to(device)\n",
    "        self.xmax = torch.tensor(xmax).float().to(device)\n",
    "        self.ymin = torch.tensor(ymin).float().to(device)\n",
    "        self.ymax = torch.tensor(ymax).float().to(device)\n",
    "\n",
    "        # Boundary Data (Dirichlet Boundary Conditions)\n",
    "        self.X_bc = torch.tensor(X_bc).float().to(device)\n",
    "        self.Y_bc = torch.tensor(Y_bc).float().to(device)\n",
    "        self.S_bc = torch.tensor(S_bc).float().to(device)\n",
    "        \n",
    "        # Training Data (Colocation Points)\n",
    "        self.X = torch.tensor(X, requires_grad=True).float().to(device)\n",
    "        self.Y = torch.tensor(Y, requires_grad=True).float().to(device)\n",
    "        \n",
    "        # PINN Hyperparameters\n",
    "        self.layers = layers\n",
    "        self.nu = 1/Re\n",
    "        self.mlp = MLP(layers).to(device)\n",
    "        \n",
    "        # Optimizer (Adam)\n",
    "        self.optimizer = torch.optim.Adam(self.mlp.parameters(), lr=0.1)\n",
    "        self.epochs = 500\n",
    "        self.iter = 0\n",
    "    \n",
    "    def pdeLoss(self, x, y):\n",
    "        s = self.mlp(x, y)\n",
    "        #u = torch.reshape(s[:,0], (s.shape[0], 1))\n",
    "        #v = torch.reshape(s[:,1], (s.shape[0], 1))\n",
    "        #p = torch.reshape(s[:,2], (s.shape[0], 1))\n",
    "        # print(\"u: \", u.shape)\n",
    "        # print(\"u: \", type(u))\n",
    "        # print(\"x: \", x.shape)\n",
    "        # print(\"x: \", type(x))\n",
    "\n",
    "        u = s[:,0]\n",
    "        v = s[:,1]\n",
    "        p = s[:,2]\n",
    "        \n",
    "        du_dy = torch.autograd.grad(inputs=y, outputs=u, grad_outputs=torch.ones_like(u), retain_graph=True, create_graph=True)[0]\n",
    "        dv_dy = torch.autograd.grad(inputs=y, outputs=v, grad_outputs=torch.ones_like(v), retain_graph=True, create_graph=True)[0]\n",
    "        dp_dy = torch.autograd.grad(inputs=y, outputs=p, grad_outputs=torch.ones_like(p), retain_graph=True, create_graph=True)[0]\n",
    "        \n",
    "        du_dx = torch.autograd.grad(inputs=x, outputs=u, grad_outputs=torch.ones_like(u), retain_graph=True, create_graph=True)[0]\n",
    "        dv_dx = torch.autograd.grad(inputs=x, outputs=v, grad_outputs=torch.ones_like(v), retain_graph=True, create_graph=True)[0]\n",
    "        dp_dx = torch.autograd.grad(inputs=x, outputs=p, grad_outputs=torch.ones_like(p), retain_graph=True, create_graph=True)[0]\n",
    "        \n",
    "        du_dxx = torch.autograd.grad(inputs=x, outputs=du_dx, grad_outputs=torch.ones_like(du_dx), retain_graph=True, create_graph=True)[0]\n",
    "        du_dyy = torch.autograd.grad(inputs=y, outputs=du_dy, grad_outputs=torch.ones_like(du_dy), retain_graph=True, create_graph=True)[0]\n",
    "        dv_dxx = torch.autograd.grad(inputs=x, outputs=dv_dx, grad_outputs=torch.ones_like(dv_dx), retain_graph=True, create_graph=True)[0]\n",
    "        dv_dyy = torch.autograd.grad(inputs=y, outputs=dv_dy, grad_outputs=torch.ones_like(dv_dy), retain_graph=True, create_graph=True)[0]\n",
    "        \n",
    "        # du_dx, du_dy = torch.autograd.grad(u, (x, y), create_graph=True)\n",
    "        # dv_dx, dv_dy = torch.autograd.grad(v, (x, y), create_graph=True)\n",
    "        # dp_dx, dp_dy = torch.autograd.grad(p, (x, y), create_graph=True)\n",
    "\n",
    "        # du_dxx, du_dxy = torch.autograd.grad(du_dx[0], (x, y))\n",
    "        # du_dyx, du_dyy = torch.autograd.grad(du_dy[1], (x, y))\n",
    "        # dv_dxx, dv_dxy = torch.autograd.grad(dv_dx[0], (x, y))\n",
    "        # dv_dyx, dv_dyy = torch.autograd.grad(dv_dy[1], (x, y))\n",
    "\n",
    "        f1 = u.squeeze() * du_dx + v.squeeze() * du_dy + dp_dx - self.nu * (du_dxx + du_dyy)\n",
    "        f2 = u.squeeze() * dv_dx + v.squeeze() * dv_dy + dp_dy - self.nu * (dv_dxx + dv_dyy)\n",
    "        f3 = du_dx + dv_dy\n",
    "        f = f1 + f2 + f3\n",
    "        return f\n",
    "    \n",
    "    def lossFunc(self):\n",
    "        Solutions = self.mlp(self.X_bc, self.Y_bc)\n",
    "        Residuals = self.pdeLoss(self.X, self.Y)\n",
    "        # print(\"Solutions:\", type(Solutions))\n",
    "        # print(\"Residuals:\", type(Residuals))\n",
    "        Data_loss = torch.mean((self.S_bc - Solutions) ** 2)\n",
    "        Physics_loss = torch.mean(Residuals ** 2)\n",
    "        loss = Data_loss + Physics_loss\n",
    "        self.iter += 1\n",
    "        if self.iter % 25 == 0:\n",
    "            print('Iter %d, Loss: %.4e, Loss_u: %.4e, Loss_f: %.4e' % (self.iter, loss.item(), Data_loss.item(), Physics_loss.item()))\n",
    "        return loss\n",
    "    \n",
    "    def train(self):\n",
    "        self.mlp.train()\n",
    "        for epoch in range(self.epochs):\n",
    "            self.optimizer.zero_grad()\n",
    "            loss = self.lossFunc()\n",
    "            loss.backward()\n",
    "            self.optimizer.step()\n",
    "            \n",
    "            \n",
    "    def predict(self, X, Y): \n",
    "        x = torch.tensor(X, requires_grad=True).float().to(device)\n",
    "        y = torch.tensor(Y, requires_grad=True).float().to(device)\n",
    "\n",
    "        self.mlp.eval()\n",
    "        s = self.mlp(x, y)\n",
    "        f = self.pdeLoss(x, y)\n",
    "        return s, f"
   ]
  },
  {
   "cell_type": "code",
   "execution_count": 23,
   "metadata": {},
   "outputs": [
    {
     "name": "stdout",
     "output_type": "stream",
     "text": [
      "X: (2500, 1)\n",
      "Y: (2500, 1)\n",
      "X_bc: (200, 1)\n",
      "Y_bc: (200, 1)\n",
      "S_bc: (200, 3)\n"
     ]
    }
   ],
   "source": [
    "# Train the model\n",
    "layers = [2, 20, 20, 20, 20, 20, 20, 3]\n",
    "xmin = 0.5\n",
    "xmax = 1\n",
    "ymin = 0.5\n",
    "ymax = 1.5\n",
    "Re = 20\n",
    "N = 50\n",
    "\n",
    "f = h5py.File('data\\colocation_points.h5', 'r')\n",
    "X = f['X']\n",
    "Y = f['Y']\n",
    "X = np.asarray(X)\n",
    "Y = np.asarray(Y)\n",
    "print(\"X:\", X.shape)\n",
    "print(\"Y:\", Y.shape)\n",
    "\n",
    "f_bc = h5py.File('data\\dirichlet_boundary_points.h5', 'r')\n",
    "X_bc = f_bc['X_bc']\n",
    "Y_bc = f_bc['Y_bc']\n",
    "X_bc = np.asarray(X_bc)\n",
    "Y_bc = np.asarray(Y_bc)\n",
    "S_bc = np.zeros((4*N,3))\n",
    "\n",
    "nu = 1 / Re\n",
    "lamb = 1 / (2 * nu) - np.sqrt(1 / (4 * nu ** 2) + 4 * np.pi ** 2)\n",
    "U_bc = 1-(np.exp(lamb*X_bc))*(np.cos(2*math.pi*Y_bc))\n",
    "V_bc = (lamb/(2*math.pi))*(np.exp(lamb*X_bc))*(np.sin(2*math.pi*Y_bc))\n",
    "P_bc = (1/2)*(1-(np.exp(2*lamb*X_bc)))\n",
    "S_bc = np.hstack((U_bc,V_bc,P_bc))\n",
    "print(\"X_bc:\", X_bc.shape)\n",
    "print(\"Y_bc:\", Y_bc.shape)\n",
    "print(\"S_bc:\", S_bc.shape)"
   ]
  },
  {
   "cell_type": "code",
   "execution_count": 24,
   "metadata": {},
   "outputs": [
    {
     "name": "stdout",
     "output_type": "stream",
     "text": [
      "Iter 25, Loss: 9.73271e-01, Loss_u: 9.73271e-01, Loss_f: 1.08497e-10\n",
      "Iter 50, Loss: 9.73982e-01, Loss_u: 9.73982e-01, Loss_f: 5.96667e-11\n",
      "Iter 75, Loss: 9.71502e-01, Loss_u: 9.71502e-01, Loss_f: 2.83666e-09\n",
      "Iter 100, Loss: 1.00713e+00, Loss_u: 1.00713e+00, Loss_f: 2.21785e-07\n",
      "Iter 125, Loss: 9.73298e-01, Loss_u: 9.73289e-01, Loss_f: 8.33136e-06\n",
      "Iter 150, Loss: 9.69737e-01, Loss_u: 9.68417e-01, Loss_f: 1.31955e-03\n",
      "Iter 175, Loss: 9.72323e-01, Loss_u: 9.72323e-01, Loss_f: 7.23941e-10\n",
      "Iter 200, Loss: 9.71615e-01, Loss_u: 9.71615e-01, Loss_f: 1.00116e-10\n",
      "Iter 225, Loss: 9.71377e-01, Loss_u: 9.71377e-01, Loss_f: 8.60522e-11\n",
      "Iter 250, Loss: 9.71348e-01, Loss_u: 9.71348e-01, Loss_f: 8.14018e-11\n",
      "Iter 275, Loss: 9.71346e-01, Loss_u: 9.71346e-01, Loss_f: 7.63568e-11\n",
      "Iter 300, Loss: 9.71346e-01, Loss_u: 9.71346e-01, Loss_f: 7.20579e-11\n",
      "Iter 325, Loss: 9.71346e-01, Loss_u: 9.71346e-01, Loss_f: 6.79133e-11\n",
      "Iter 350, Loss: 9.71346e-01, Loss_u: 9.71346e-01, Loss_f: 6.40388e-11\n",
      "Iter 375, Loss: 9.71346e-01, Loss_u: 9.71346e-01, Loss_f: 6.04168e-11\n",
      "Iter 400, Loss: 9.71346e-01, Loss_u: 9.71346e-01, Loss_f: 5.70350e-11\n",
      "Iter 425, Loss: 9.71346e-01, Loss_u: 9.71346e-01, Loss_f: 5.38839e-11\n",
      "Iter 450, Loss: 9.71346e-01, Loss_u: 9.71346e-01, Loss_f: 5.09504e-11\n",
      "Iter 475, Loss: 9.71346e-01, Loss_u: 9.71346e-01, Loss_f: 4.82224e-11\n",
      "Iter 500, Loss: 9.71346e-01, Loss_u: 9.71346e-01, Loss_f: 4.56860e-11\n"
     ]
    }
   ],
   "source": [
    "model = PINN(X_bc, Y_bc, S_bc, X, Y, layers, xmin, xmax, ymin, ymax, Re)\n",
    "model.train()"
   ]
  },
  {
   "cell_type": "code",
   "execution_count": 25,
   "metadata": {},
   "outputs": [
    {
     "name": "stdout",
     "output_type": "stream",
     "text": [
      "U:  torch.Size([2500, 1])\n",
      "V:  torch.Size([2500, 1])\n",
      "P:  torch.Size([2500, 1])\n",
      "Predicted Solutions:  torch.Size([2500, 3])\n",
      "Analytical Solutions:  torch.Size([2500, 3])\n",
      "Relative L2 Error: 7.957665e-01\n"
     ]
    }
   ],
   "source": [
    "f = h5py.File('data\\Analytical_Solutions\\Re_20.h5', 'r')\n",
    "#f.visit(printname)\n",
    "U = f['U']\n",
    "V = f['V']\n",
    "P = f['P']\n",
    "U = np.asarray(U)\n",
    "V = np.asarray(V)\n",
    "P = np.asarray(P)\n",
    "U = torch.from_numpy(U)\n",
    "V = torch.from_numpy(V)\n",
    "P = torch.from_numpy(P)\n",
    "print(\"U: \", U.shape)\n",
    "print(\"V: \", V.shape)\n",
    "print(\"P: \", P.shape)\n",
    "f.close()\n",
    "\n",
    "s_test = torch.hstack((U,V,P))\n",
    "s_pred, f_pred = model.predict(X, Y)\n",
    "print(\"Predicted Solutions: \", s_pred.shape)\n",
    "print(\"Analytical Solutions: \", s_test.shape)\n",
    "\n",
    "# Relative L2 Error\n",
    "error_s = torch.linalg.norm(s_test-s_pred,2)/torch.linalg.norm(s_test,2)\n",
    "print('Relative L2 Error: %e' % (error_s))"
   ]
  },
  {
   "cell_type": "code",
   "execution_count": 26,
   "metadata": {},
   "outputs": [],
   "source": [
    "u_test = torch.reshape(U, (N,N))\n",
    "v_test = torch.reshape(V, (N,N))\n",
    "p_test = torch.reshape(P, (N,N))\n",
    "u_pred = torch.reshape(s_pred[:,0], (N,N)).detach().numpy()\n",
    "v_pred = torch.reshape(s_pred[:,1], (N,N)).detach().numpy()\n",
    "p_pred = torch.reshape(s_pred[:,2], (N,N)).detach().numpy()"
   ]
  },
  {
   "cell_type": "code",
   "execution_count": 27,
   "metadata": {},
   "outputs": [
    {
     "data": {
      "image/png": "[encoded data removed]",
      "text/plain": [
       "<Figure size 700x700 with 6 Axes>"
      ]
     },
     "metadata": {},
     "output_type": "display_data"
    }
   ],
   "source": [
    "fig, axs = plt.subplots(3, 2, figsize=(7, 7))\n",
    "axs[0, 0].imshow(u_test)\n",
    "axs[0, 0].set_title('analytical u')\n",
    "axs[1, 0].imshow(v_test)\n",
    "axs[1, 0].set_title('analytical v')\n",
    "axs[2, 0].imshow(p_test)\n",
    "axs[2, 0].set_title('analytical p')\n",
    "axs[0, 1].imshow(u_pred)\n",
    "axs[0, 1].set_title('learned u')\n",
    "axs[1, 1].imshow(v_pred)\n",
    "axs[1, 1].set_title('learned v')\n",
    "axs[2, 1].imshow(p_pred)\n",
    "axs[2, 1].set_title('learned p')\n",
    "fig.tight_layout()"
   ]
  },
  {
   "cell_type": "code",
   "execution_count": null,
   "metadata": {},
   "outputs": [],
   "source": [
    "params = model.mlp.state_dict()\n",
    "print(params.keys())\n",
    "print(type(params['layers.layer_0.weight']))\n",
    "print(params['layers.layer_0.weight'].shape)\n",
    "flattened_tensor = torch.reshape(params['layers.layer_0.weight'], (-1,))\n",
    "print(type(flattened_tensor))\n",
    "print(flattened_tensor.shape)"
   ]
  },
  {
   "cell_type": "code",
   "execution_count": null,
   "metadata": {},
   "outputs": [],
   "source": [
    "flattened_weights = []\n",
    "for key in params.keys():\n",
    "    flattened_tensor = torch.reshape(params[key], (-1,)).tolist()\n",
    "#     print(len(flattened_tensor))\n",
    "    for val in flattened_tensor:\n",
    "        flattened_weights.append(val)\n",
    "# print(type(flattened_weights))\n",
    "# print(len(flattened_weights))\n",
    "# print(flattened_weights)\n",
    "weights_array = np.array(flattened_weights)\n",
    "np.savetxt('data/weights/weights_'+str(Re)+'.txt', weights_array)"
   ]
  }
 ],
 "metadata": {
  "kernelspec": {
   "display_name": "Python 3 (ipykernel)",
   "language": "python",
   "name": "python3"
  },
  "language_info": {
   "codemirror_mode": {
    "name": "ipython",
    "version": 3
   },
   "file_extension": ".py",
   "mimetype": "text/x-python",
   "name": "python",
   "nbconvert_exporter": "python",
   "pygments_lexer": "ipython3",
   "version": "3.10.9"
  }
 },
 "nbformat": 4,
 "nbformat_minor": 2
}
