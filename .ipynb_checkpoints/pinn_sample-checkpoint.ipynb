{
 "cells": [
  {
   "cell_type": "code",
   "execution_count": 1,
   "id": "9e4d18a6",
   "metadata": {},
   "outputs": [],
   "source": [
    "import math\n",
    "import pandas as pd\n",
    "import numpy as np\n",
    "import matplotlib.pyplot as plt\n",
    "import torch\n",
    "import torch.nn as nn\n",
    "import torch.nn.functional as F\n",
    "import torch.optim as optim\n",
    "import torch.optim.lr_scheduler as lr_scheduler\n",
    "from torch.autograd import Variable\n",
    "\n",
    "device = torch.device(\"cuda\" if torch.cuda.is_available() else \"cpu\")\n",
    "random_seed = 1\n",
    "torch.manual_seed(random_seed)\n",
    "torch.cuda.manual_seed(random_seed)\n",
    "torch.backends.cudnn.deterministic = True\n",
    "torch.backends.cudnn.benchmark = False\n",
    "np.random.seed(random_seed)"
   ]
  },
  {
   "cell_type": "code",
   "execution_count": 2,
   "id": "b36cd68d",
   "metadata": {},
   "outputs": [],
   "source": [
    "xmin = -0.5\n",
    "xmax = 1\n",
    "ymin = -0.5\n",
    "ymax = 1.5\n",
    "N = 50\n",
    "N_bc = 100\n",
    "Re = 100\n",
    "nu = 1 / Re\n",
    "lamb = 1 / (2 * nu) - np.sqrt(1 / (4 * nu ** 2) + 4 * np.pi ** 2)"
   ]
  },
  {
   "cell_type": "code",
   "execution_count": 3,
   "id": "553692da",
   "metadata": {},
   "outputs": [],
   "source": [
    "dx = (xmax-xmin)/(N_bc)\n",
    "dy = (ymax-ymin)/(N_bc)\n",
    "x_data = np.arange(xmin+dx, xmax, dx)\n",
    "y_data = np.arange(ymin+dy, ymax, dy)\n",
    "#print(dx)\n",
    "#print(dy)\n",
    "#print(\"X_data: \", x_data)\n",
    "#print(\"Y_data: \", y_data)\n",
    "\n",
    "x = []\n",
    "y = []\n",
    "x.append(xmin)\n",
    "y.append(ymin)\n",
    "x.append(xmin)\n",
    "y.append(ymax)\n",
    "x.append(xmax)\n",
    "y.append(ymin)\n",
    "x.append(xmax)\n",
    "y.append(ymax)\n",
    "for i in range(N_bc-1):\n",
    "    x.append(xmin)\n",
    "    y.append(y_data[i])\n",
    "    x.append(xmax)\n",
    "    y.append(y_data[i])\n",
    "    x.append(x_data[i])\n",
    "    y.append(ymin)\n",
    "    x.append(x_data[i])\n",
    "    y.append(ymax)\n",
    "\n",
    "x = np.array(x, dtype=float)\n",
    "y = np.array(y, dtype=float)\n",
    "X_bc = np.ndarray.reshape(x, (x.shape[0],1))\n",
    "Y_bc = np.ndarray.reshape(y, (y.shape[0],1))\n",
    "\n",
    "S_bc = np.zeros((4*N_bc, 3))\n",
    "U_bc = 1-(np.exp(lamb*X_bc))*(np.cos(2*math.pi*Y_bc))\n",
    "V_bc = (lamb/(2*math.pi))*(np.exp(lamb*X_bc))*(np.sin(2*math.pi*Y_bc))\n",
    "P_bc = (1/2)*(1-(np.exp(2*lamb*X_bc)))\n",
    "S_bc[:,0:1] = np.ndarray.reshape(U_bc, (U_bc.shape[0],1))\n",
    "S_bc[:,1:2] = np.ndarray.reshape(V_bc, (V_bc.shape[0],1))\n",
    "S_bc[:,2:] = np.ndarray.reshape(P_bc, (P_bc.shape[0],1))\n",
    "\n",
    "#print(\"X_bc: \", X_bc.shape)\n",
    "#print(\"Y_bc: \", Y_bc.shape)\n",
    "\n",
    "# print(\"X_bc: \", x_bc)\n",
    "# print(\"Y_bc: \", y_bc)\n",
    "\n",
    "# for i in range(4*N):\n",
    "#     print(x_bc[i], \" \", y_bc[i])"
   ]
  },
  {
   "cell_type": "code",
   "execution_count": 4,
   "id": "a9230a84",
   "metadata": {},
   "outputs": [],
   "source": [
    "X_bc = Variable(torch.from_numpy(X_bc).float(), requires_grad=False).to(device)\n",
    "Y_bc = Variable(torch.from_numpy(Y_bc).float(), requires_grad=False).to(device)\n",
    "S_bc = Variable(torch.from_numpy(S_bc).float(), requires_grad=False).to(device)\n",
    "\n",
    "x = np.arange(xmin, xmax, (xmax-xmin)/N)\n",
    "y = np.arange(ymin, ymax, (ymax-ymin)/N)\n",
    "X, Y = np.meshgrid(x,y)\n",
    "X = X.flatten()[:,None]\n",
    "Y = Y.flatten()[:,None]\n",
    "F = np.zeros_like(X)\n",
    "\n",
    "X = Variable(torch.from_numpy(X).float(), requires_grad=True).to(device)\n",
    "Y = Variable(torch.from_numpy(Y).float(), requires_grad=True).to(device)\n",
    "F = Variable(torch.from_numpy(F).float(), requires_grad=True).to(device)"
   ]
  },
  {
   "cell_type": "code",
   "execution_count": 5,
   "id": "2d6fc869",
   "metadata": {},
   "outputs": [],
   "source": [
    "class PINN(nn.Module):\n",
    "    def __init__(self):\n",
    "        super(PINN, self).__init__()\n",
    "        self.layer1 = nn.Linear(2,20)\n",
    "        self.layer2 = nn.Linear(20,20)\n",
    "        self.layer3 = nn.Linear(20,20)\n",
    "        self.layer4 = nn.Linear(20,20)\n",
    "        self.layer5 = nn.Linear(20,20)\n",
    "        self.layer6 = nn.Linear(20,20)\n",
    "        self.output_layer = nn.Linear(20,3)\n",
    "\n",
    "    def forward(self, x, y): \n",
    "        inputs = torch.cat([x, y], axis=1)\n",
    "        layer1_out = torch.tanh(self.layer1(inputs))\n",
    "        layer2_out = torch.tanh(self.layer2(layer1_out))\n",
    "        layer3_out = torch.tanh(self.layer3(layer2_out))\n",
    "        layer4_out = torch.tanh(self.layer4(layer3_out))\n",
    "        layer5_out = torch.tanh(self.layer5(layer4_out))\n",
    "        layer6_out = torch.tanh(self.layer6(layer5_out))\n",
    "        output = self.output_layer(layer6_out) \n",
    "        return output"
   ]
  },
  {
   "cell_type": "code",
   "execution_count": 6,
   "id": "93ccc50d",
   "metadata": {},
   "outputs": [],
   "source": [
    "pinn = PINN()\n",
    "pinn = pinn.to(device)\n",
    "mse_cost_function = nn.MSELoss() \n",
    "optimizer = torch.optim.Adam(pinn.parameters(), lr=1e-2)\n",
    "scheduler = lr_scheduler.StepLR(optimizer, step_size=8000, gamma=0.1, last_epoch=-1, verbose=False)"
   ]
  },
  {
   "cell_type": "code",
   "execution_count": 7,
   "id": "a910556a",
   "metadata": {},
   "outputs": [],
   "source": [
    "def residual(x, y, pinn):\n",
    "    s = pinn.forward(x, y)\n",
    "    u = s[:,0:1]\n",
    "    v = s[:,1:2]\n",
    "    p = s[:,2:]\n",
    "\n",
    "    du_dx = torch.autograd.grad(u.sum(), x, create_graph=True)[0]\n",
    "    dv_dx = torch.autograd.grad(v.sum(), x, create_graph=True)[0]\n",
    "    dp_dx = torch.autograd.grad(p.sum(), x, create_graph=True)[0]\n",
    "\n",
    "    du_dy = torch.autograd.grad(u.sum(), y, create_graph=True)[0]\n",
    "    dv_dy = torch.autograd.grad(v.sum(), y, create_graph=True)[0]\n",
    "    dp_dy = torch.autograd.grad(p.sum(), y, create_graph=True)[0]\n",
    "\n",
    "    du_dxx = torch.autograd.grad(du_dx.sum(), x, create_graph=True)[0]\n",
    "    dv_dxx = torch.autograd.grad(dv_dx.sum(), x, create_graph=True)[0]\n",
    "    du_dyy = torch.autograd.grad(du_dy.sum(), y, create_graph=True)[0]\n",
    "    dv_dyy = torch.autograd.grad(dv_dy.sum(), y, create_graph=True)[0]\n",
    "\n",
    "    f1 = u*du_dx + v*du_dy + dp_dx - nu*(du_dxx + du_dyy)\n",
    "    f2 = u*dv_dx + v*dv_dy + dp_dy - nu*(dv_dxx + dv_dyy)\n",
    "    f3 = du_dx + dv_dy\n",
    "    f = f1 + f2 + f3\n",
    "    return f"
   ]
  },
  {
   "cell_type": "code",
   "execution_count": 8,
   "id": "2b4ee03a",
   "metadata": {},
   "outputs": [
    {
     "name": "stdout",
     "output_type": "stream",
     "text": [
      "Epoch 0, LR: 1.0000e-02, Loss: 9.4131e-01, Data Loss: 9.4129e-01, Physics Loss: 2.3892e-05\n"
     ]
    },
    {
     "name": "stderr",
     "output_type": "stream",
     "text": [
      "C:\\Users\\ameyv\\anaconda3\\envs\\amey-pinn\\lib\\site-packages\\torch\\autograd\\__init__.py:197: UserWarning: grad and param do not obey the gradient layout contract. This is not an error, but may impair performance.\n",
      "grad.sizes() = [2500, 1], strides() = [1, 0]\n",
      "param.sizes() = [2500, 1], strides() = [1, 0] (Triggered internally at C:\\cb\\pytorch_1000000000000\\work\\torch/csrc/autograd/functions/accumulate_grad.h:202.)\n",
      "  Variable._execution_engine.run_backward(  # Calls into the C++ engine to run the backward pass\n"
     ]
    },
    {
     "name": "stdout",
     "output_type": "stream",
     "text": [
      "Epoch 1000, LR: 1.0000e-02, Loss: 1.4212e-01, Data Loss: 1.3917e-01, Physics Loss: 2.9525e-03\n",
      "Epoch 2000, LR: 1.0000e-02, Loss: 5.9509e-02, Data Loss: 5.5202e-02, Physics Loss: 4.3070e-03\n",
      "Epoch 3000, LR: 1.0000e-02, Loss: 4.0059e-03, Data Loss: 8.3617e-04, Physics Loss: 3.1697e-03\n",
      "Epoch 4000, LR: 1.0000e-02, Loss: 8.1798e-04, Data Loss: 6.4102e-04, Physics Loss: 1.7696e-04\n",
      "Epoch 5000, LR: 1.0000e-02, Loss: 2.8380e-03, Data Loss: 5.1009e-04, Physics Loss: 2.3279e-03\n",
      "Epoch 6000, LR: 1.0000e-02, Loss: 5.8230e-03, Data Loss: 1.3136e-03, Physics Loss: 4.5094e-03\n",
      "Epoch 7000, LR: 1.0000e-02, Loss: 2.6925e-04, Data Loss: 1.7915e-04, Physics Loss: 9.0105e-05\n",
      "Epoch 8000, LR: 1.0000e-03, Loss: 3.7895e-03, Data Loss: 3.7202e-04, Physics Loss: 3.4174e-03\n",
      "Epoch 9000, LR: 1.0000e-03, Loss: 1.1351e-04, Data Loss: 8.7442e-05, Physics Loss: 2.6067e-05\n",
      "Epoch 10000, LR: 1.0000e-03, Loss: 8.4465e-05, Data Loss: 6.7234e-05, Physics Loss: 1.7232e-05\n",
      "Epoch 11000, LR: 1.0000e-03, Loss: 6.3291e-05, Data Loss: 5.2399e-05, Physics Loss: 1.0891e-05\n",
      "Epoch 12000, LR: 1.0000e-03, Loss: 4.8871e-05, Data Loss: 4.1250e-05, Physics Loss: 7.6216e-06\n",
      "Epoch 13000, LR: 1.0000e-03, Loss: 7.6381e-05, Data Loss: 3.4901e-05, Physics Loss: 4.1479e-05\n",
      "Epoch 14000, LR: 1.0000e-03, Loss: 3.2548e-05, Data Loss: 2.7445e-05, Physics Loss: 5.1029e-06\n",
      "Epoch 15000, LR: 1.0000e-03, Loss: 3.2006e-05, Data Loss: 2.3231e-05, Physics Loss: 8.7751e-06\n",
      "Epoch 16000, LR: 1.0000e-04, Loss: 2.3650e-05, Data Loss: 1.9283e-05, Physics Loss: 4.3666e-06\n",
      "Epoch 17000, LR: 1.0000e-04, Loss: 2.2602e-05, Data Loss: 1.8720e-05, Physics Loss: 3.8815e-06\n",
      "Epoch 18000, LR: 1.0000e-04, Loss: 2.1691e-05, Data Loss: 1.7909e-05, Physics Loss: 3.7815e-06\n",
      "Epoch 19000, LR: 1.0000e-04, Loss: 2.0292e-05, Data Loss: 1.6669e-05, Physics Loss: 3.6237e-06\n",
      "Epoch 20000, LR: 1.0000e-04, Loss: 1.8142e-05, Data Loss: 1.4762e-05, Physics Loss: 3.3802e-06\n",
      "Epoch 21000, LR: 1.0000e-04, Loss: 1.5341e-05, Data Loss: 1.2269e-05, Physics Loss: 3.0713e-06\n",
      "Epoch 22000, LR: 1.0000e-04, Loss: 1.3003e-05, Data Loss: 1.0209e-05, Physics Loss: 2.7944e-06\n",
      "Epoch 23000, LR: 1.0000e-04, Loss: 1.1134e-05, Data Loss: 8.5918e-06, Physics Loss: 2.5424e-06\n",
      "Epoch 24000, LR: 1.0000e-05, Loss: 9.6441e-06, Data Loss: 7.3254e-06, Physics Loss: 2.3186e-06\n",
      "Epoch 25000, LR: 1.0000e-05, Loss: 9.4674e-06, Data Loss: 7.1808e-06, Physics Loss: 2.2867e-06\n",
      "Epoch 26000, LR: 1.0000e-05, Loss: 9.1952e-06, Data Loss: 6.9532e-06, Physics Loss: 2.2420e-06\n",
      "Epoch 27000, LR: 1.0000e-05, Loss: 8.7747e-06, Data Loss: 6.6029e-06, Physics Loss: 2.1719e-06\n",
      "Epoch 28000, LR: 1.0000e-05, Loss: 8.1536e-06, Data Loss: 6.0886e-06, Physics Loss: 2.0649e-06\n",
      "Epoch 29000, LR: 1.0000e-05, Loss: 7.3475e-06, Data Loss: 5.4208e-06, Physics Loss: 1.9267e-06\n",
      "Epoch 30000, LR: 1.0000e-05, Loss: 6.5965e-06, Data Loss: 4.8234e-06, Physics Loss: 1.7731e-06\n",
      "Epoch 31000, LR: 1.0000e-05, Loss: 5.9671e-06, Data Loss: 4.3248e-06, Physics Loss: 1.6423e-06\n",
      "Epoch 32000, LR: 1.0000e-06, Loss: 5.4386e-06, Data Loss: 3.9062e-06, Physics Loss: 1.5324e-06\n",
      "Epoch 33000, LR: 1.0000e-06, Loss: 5.3765e-06, Data Loss: 3.8570e-06, Physics Loss: 1.5195e-06\n",
      "Epoch 34000, LR: 1.0000e-06, Loss: 5.2826e-06, Data Loss: 3.7816e-06, Physics Loss: 1.5010e-06\n",
      "Epoch 35000, LR: 1.0000e-06, Loss: 5.1482e-06, Data Loss: 3.6734e-06, Physics Loss: 1.4748e-06\n",
      "Epoch 36000, LR: 1.0000e-06, Loss: 4.9690e-06, Data Loss: 3.5291e-06, Physics Loss: 1.4399e-06\n",
      "Epoch 37000, LR: 1.0000e-06, Loss: 4.7503e-06, Data Loss: 3.3534e-06, Physics Loss: 1.3968e-06\n",
      "Epoch 38000, LR: 1.0000e-06, Loss: 4.5339e-06, Data Loss: 3.1814e-06, Physics Loss: 1.3525e-06\n",
      "Epoch 39000, LR: 1.0000e-06, Loss: 4.3332e-06, Data Loss: 3.0228e-06, Physics Loss: 1.3104e-06\n",
      "Epoch 40000, LR: 1.0000e-07, Loss: 4.1458e-06, Data Loss: 2.8759e-06, Physics Loss: 1.2699e-06\n",
      "Epoch 41000, LR: 1.0000e-07, Loss: 4.1251e-06, Data Loss: 2.8598e-06, Physics Loss: 1.2653e-06\n",
      "Epoch 42000, LR: 1.0000e-07, Loss: 4.1000e-06, Data Loss: 2.8398e-06, Physics Loss: 1.2602e-06\n",
      "Epoch 43000, LR: 1.0000e-07, Loss: 4.0718e-06, Data Loss: 2.8170e-06, Physics Loss: 1.2548e-06\n",
      "Epoch 44000, LR: 1.0000e-07, Loss: 4.0414e-06, Data Loss: 2.7924e-06, Physics Loss: 1.2490e-06\n",
      "Epoch 45000, LR: 1.0000e-07, Loss: 4.0098e-06, Data Loss: 2.7668e-06, Physics Loss: 1.2431e-06\n",
      "Epoch 46000, LR: 1.0000e-07, Loss: 3.9782e-06, Data Loss: 2.7412e-06, Physics Loss: 1.2370e-06\n",
      "Epoch 47000, LR: 1.0000e-07, Loss: 3.9467e-06, Data Loss: 2.7159e-06, Physics Loss: 1.2308e-06\n",
      "Epoch 48000, LR: 1.0000e-08, Loss: 3.9156e-06, Data Loss: 2.6910e-06, Physics Loss: 1.2246e-06\n",
      "Epoch 49000, LR: 1.0000e-08, Loss: 3.9137e-06, Data Loss: 2.6893e-06, Physics Loss: 1.2245e-06\n"
     ]
    }
   ],
   "source": [
    "iterations = 50000\n",
    "for epoch in range(iterations):\n",
    "    optimizer.zero_grad()\n",
    "    \n",
    "    PINN_S_bc = pinn.forward(X_bc, Y_bc)\n",
    "    MSE_U = mse_cost_function(PINN_S_bc, S_bc)\n",
    "\n",
    "    PINN_Residual = residual(X, Y, pinn)\n",
    "    MSE_F = mse_cost_function(PINN_Residual, F)\n",
    "\n",
    "    Loss = MSE_U + MSE_F\n",
    "\n",
    "    Loss.backward()\n",
    "    optimizer.step()\n",
    "    scheduler.step()\n",
    "\n",
    "    with torch.autograd.no_grad():\n",
    "        if epoch%1000 == 0:\n",
    "            current_lr = optimizer.param_groups[0]['lr']\n",
    "            print('Epoch %d, LR: %.4e, Loss: %.4e, Data Loss: %.4e, Physics Loss: %.4e' % (epoch, current_lr, Loss, MSE_U, MSE_F))"
   ]
  },
  {
   "cell_type": "code",
   "execution_count": 9,
   "id": "50d965e9",
   "metadata": {},
   "outputs": [],
   "source": [
    "S = torch.zeros((N*N, 3))\n",
    "U = 1-(torch.exp(lamb*X))*(torch.cos(2*math.pi*Y))\n",
    "V = (lamb/(2*math.pi))*(torch.exp(lamb*X))*(torch.sin(2*math.pi*Y))\n",
    "P = (1/2)*(1-(torch.exp(2*lamb*X)))\n",
    "S[:,0:1] = torch.reshape(U, (U.shape[0],1))\n",
    "S[:,1:2] = torch.reshape(V, (V.shape[0],1))\n",
    "S[:,2:] = torch.reshape(P, (P.shape[0],1))"
   ]
  },
  {
   "cell_type": "code",
   "execution_count": 10,
   "id": "9e3b3b15",
   "metadata": {},
   "outputs": [
    {
     "name": "stdout",
     "output_type": "stream",
     "text": [
      "Mean L2 Error: 2.591751e-01\n",
      "Relative L2 Error: 4.315591e-03\n"
     ]
    }
   ],
   "source": [
    "s_pred = pinn(X, Y)\n",
    "# Mean L2 Error\n",
    "error = torch.linalg.norm(S-s_pred,2)\n",
    "print('Mean L2 Error: %e' % (error))\n",
    "\n",
    "# Relative L2 Error\n",
    "error_s = torch.linalg.norm(S-s_pred,2)/torch.linalg.norm(S,2)\n",
    "print('Relative L2 Error: %e' % (error_s))"
   ]
  },
  {
   "cell_type": "code",
   "execution_count": 11,
   "id": "8a99415b",
   "metadata": {},
   "outputs": [],
   "source": [
    "u_test = torch.reshape(U, (N,N)).detach().numpy()\n",
    "v_test = torch.reshape(V, (N,N)).detach().numpy()\n",
    "p_test = torch.reshape(P, (N,N)).detach().numpy()\n",
    "u_pred = torch.reshape(s_pred[:,0], (N,N)).detach().numpy()\n",
    "v_pred = torch.reshape(s_pred[:,1], (N,N)).detach().numpy()\n",
    "p_pred = torch.reshape(s_pred[:,2], (N,N)).detach().numpy()"
   ]
  },
  {
   "cell_type": "code",
   "execution_count": 12,
   "id": "0f5f5d8c",
   "metadata": {},
   "outputs": [
    {
     "data": {
      "image/png": "[encoded data removed]",
      "text/plain": [
       "<Figure size 700x700 with 6 Axes>"
      ]
     },
     "metadata": {},
     "output_type": "display_data"
    }
   ],
   "source": [
    "fig, axs = plt.subplots(3, 2, figsize=(7, 7))\n",
    "axs[0, 0].imshow(u_test)\n",
    "axs[0, 0].set_title('analytical u')\n",
    "axs[1, 0].imshow(v_test)\n",
    "axs[1, 0].set_title('analytical v')\n",
    "axs[2, 0].imshow(p_test)\n",
    "axs[2, 0].set_title('analytical p')\n",
    "axs[0, 1].imshow(u_pred)\n",
    "axs[0, 1].set_title('learned u')\n",
    "axs[1, 1].imshow(v_pred)\n",
    "axs[1, 1].set_title('learned v')\n",
    "axs[2, 1].imshow(p_pred)\n",
    "axs[2, 1].set_title('learned p')\n",
    "fig.tight_layout()"
   ]
  },
  {
   "cell_type": "code",
   "execution_count": 13,
   "id": "1938d978",
   "metadata": {},
   "outputs": [
    {
     "name": "stdout",
     "output_type": "stream",
     "text": [
      "odict_keys(['layer1.weight', 'layer1.bias', 'layer2.weight', 'layer2.bias', 'layer3.weight', 'layer3.bias', 'layer4.weight', 'layer4.bias', 'layer5.weight', 'layer5.bias', 'layer6.weight', 'layer6.bias', 'output_layer.weight', 'output_layer.bias'])\n"
     ]
    }
   ],
   "source": [
    "params = pinn.state_dict()\n",
    "print(params.keys())"
   ]
  },
  {
   "cell_type": "code",
   "execution_count": 14,
   "id": "9abd2dc9",
   "metadata": {},
   "outputs": [],
   "source": [
    "flattened_weights = []\n",
    "for key in params.keys():\n",
    "    flattened_tensor = torch.reshape(params[key], (-1,)).tolist()\n",
    "    for val in flattened_tensor:\n",
    "        flattened_weights.append(val)\n",
    "weights_array = np.array(flattened_weights)\n",
    "np.savetxt('dump/weights_'+str(Re)+'.txt', weights_array)"
   ]
  },
  {
   "cell_type": "code",
   "execution_count": 15,
   "id": "6521a03e",
   "metadata": {},
   "outputs": [],
   "source": [
    "torch.save(pinn.state_dict(), 'dump/model_'+str(Re)+'.pt')"
   ]
  }
 ],
 "metadata": {
  "kernelspec": {
   "display_name": "Python 3 (ipykernel)",
   "language": "python",
   "name": "python3"
  },
  "language_info": {
   "codemirror_mode": {
    "name": "ipython",
    "version": 3
   },
   "file_extension": ".py",
   "mimetype": "text/x-python",
   "name": "python",
   "nbconvert_exporter": "python",
   "pygments_lexer": "ipython3",
   "version": "3.10.9"
  }
 },
 "nbformat": 4,
 "nbformat_minor": 5
}
