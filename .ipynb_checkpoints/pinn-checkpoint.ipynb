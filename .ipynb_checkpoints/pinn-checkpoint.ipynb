{
 "cells": [
  {
   "cell_type": "code",
   "execution_count": 1,
   "id": "9e4d18a6",
   "metadata": {},
   "outputs": [],
   "source": [
    "import math\n",
    "import pandas as pd\n",
    "import numpy as np\n",
    "import matplotlib.pyplot as plt\n",
    "import torch\n",
    "import torch.nn as nn\n",
    "import torch.nn.functional as F\n",
    "from torch.autograd import Variable\n",
    "device = torch.device(\"cuda:0\" if torch.cuda.is_available() else \"cpu\")"
   ]
  },
  {
   "cell_type": "code",
   "execution_count": 2,
   "id": "b36cd68d",
   "metadata": {},
   "outputs": [],
   "source": [
    "xmin = -0.5\n",
    "xmax = 1\n",
    "ymin = -0.5\n",
    "ymax = 1.5\n",
    "N = 50\n",
    "Re = 100\n",
    "nu = 1 / Re\n",
    "lamb = 1 / (2 * nu) - np.sqrt(1 / (4 * nu ** 2) + 4 * np.pi ** 2)"
   ]
  },
  {
   "cell_type": "code",
   "execution_count": 3,
   "id": "553692da",
   "metadata": {},
   "outputs": [],
   "source": [
    "x_data = np.arange(xmin, xmax, (xmax-xmin)/N)\n",
    "y_data = np.arange(ymin, ymax, (ymax-ymin)/N)\n",
    "\n",
    "#print(\"X_data: \", x_data)\n",
    "#print(\"Y_data: \", y_data)\n",
    "\n",
    "x = []\n",
    "y = []\n",
    "for i in range(N):\n",
    "    x.append(xmin)\n",
    "    y.append(y_data[i])\n",
    "    x.append(xmax)\n",
    "    y.append(y_data[i])\n",
    "    x.append(x_data[i])\n",
    "    y.append(ymin)\n",
    "    x.append(x_data[i])\n",
    "    y.append(ymax)\n",
    "\n",
    "x = np.array(x, dtype=float)\n",
    "y = np.array(y, dtype=float)\n",
    "X_bc = np.ndarray.reshape(x, (x.shape[0],1))\n",
    "Y_bc = np.ndarray.reshape(y, (y.shape[0],1))\n",
    "\n",
    "S_bc = np.zeros((4*N, 3))\n",
    "U_bc = 1-(np.exp(lamb*X_bc))*(np.cos(2*math.pi*Y_bc))\n",
    "V_bc = (lamb/(2*math.pi))*(np.exp(lamb*X_bc))*(np.sin(2*math.pi*Y_bc))\n",
    "P_bc = (1/2)*(1-(np.exp(2*lamb*X_bc)))\n",
    "S_bc[:,0:1] = np.ndarray.reshape(U_bc, (U_bc.shape[0],1))\n",
    "S_bc[:,1:2] = np.ndarray.reshape(V_bc, (V_bc.shape[0],1))\n",
    "S_bc[:,2:] = np.ndarray.reshape(P_bc, (P_bc.shape[0],1))\n",
    "#print(\"X_bc: \", X_bc.shape)\n",
    "#print(\"Y_bc: \", Y_bc.shape)\n",
    "\n",
    "# print(\"X_bc: \", x_bc)\n",
    "# print(\"Y_bc: \", y_bc)\n",
    "\n",
    "# for i in range(4*N):\n",
    "#     print(x_bc[i], \" \", y_bc[i])"
   ]
  },
  {
   "cell_type": "code",
   "execution_count": 4,
   "id": "a9230a84",
   "metadata": {},
   "outputs": [],
   "source": [
    "X_bc = Variable(torch.from_numpy(X_bc).float(), requires_grad=False).to(device)\n",
    "Y_bc = Variable(torch.from_numpy(Y_bc).float(), requires_grad=False).to(device)\n",
    "S_bc = Variable(torch.from_numpy(S_bc).float(), requires_grad=False).to(device)\n",
    "\n",
    "x = np.arange(xmin, xmax, (xmax-xmin)/N)\n",
    "y = np.arange(ymin, ymax, (ymax-ymin)/N)\n",
    "X, Y = np.meshgrid(x,y)\n",
    "X = X.flatten()[:,None]\n",
    "Y = Y.flatten()[:,None]\n",
    "S = np.zeros((X.shape[0], 3))\n",
    "\n",
    "X = Variable(torch.from_numpy(X).float(), requires_grad=True).to(device)\n",
    "Y = Variable(torch.from_numpy(Y).float(), requires_grad=True).to(device)\n",
    "S = Variable(torch.from_numpy(S).float(), requires_grad=False).to(device)"
   ]
  },
  {
   "cell_type": "code",
   "execution_count": 5,
   "id": "2d6fc869",
   "metadata": {},
   "outputs": [],
   "source": [
    "class PINN(nn.Module):\n",
    "    def __init__(self):\n",
    "        super(PINN, self).__init__()\n",
    "        self.layer1 = nn.Linear(2,20)\n",
    "        self.layer2 = nn.Linear(20,20)\n",
    "        self.layer3 = nn.Linear(20,20)\n",
    "        self.layer4 = nn.Linear(20,20)\n",
    "        self.layer5 = nn.Linear(20,20)\n",
    "        self.output_layer = nn.Linear(20,3)\n",
    "\n",
    "    def forward(self, x, y): \n",
    "        inputs = torch.cat([x, y], axis=1)\n",
    "        layer1_out = torch.tanh(self.layer1(inputs))\n",
    "        layer2_out = torch.tanh(self.layer2(layer1_out))\n",
    "        layer3_out = torch.tanh(self.layer3(layer2_out))\n",
    "        layer4_out = torch.tanh(self.layer4(layer3_out))\n",
    "        layer5_out = torch.tanh(self.layer5(layer4_out))\n",
    "        output = self.output_layer(layer5_out) \n",
    "        return output"
   ]
  },
  {
   "cell_type": "code",
   "execution_count": 6,
   "id": "93ccc50d",
   "metadata": {},
   "outputs": [],
   "source": [
    "pinn = PINN()\n",
    "pinn = pinn.to(device)\n",
    "mse_cost_function = nn.MSELoss() \n",
    "optimizer = torch.optim.Adam(pinn.parameters())"
   ]
  },
  {
   "cell_type": "code",
   "execution_count": 7,
   "id": "a910556a",
   "metadata": {},
   "outputs": [],
   "source": [
    "def residual(x, y, pinn):\n",
    "    s = pinn.forward(x, y)\n",
    "    u = s[:,0:1]\n",
    "    v = s[:,1:2]\n",
    "    p = s[:,2:]\n",
    "\n",
    "    du_dx = torch.autograd.grad(u.sum(), x, create_graph=True)[0]\n",
    "    dv_dx = torch.autograd.grad(v.sum(), x, create_graph=True)[0]\n",
    "    dp_dx = torch.autograd.grad(p.sum(), x, create_graph=True)[0]\n",
    "\n",
    "    du_dy = torch.autograd.grad(u.sum(), y, create_graph=True)[0]\n",
    "    dv_dy = torch.autograd.grad(v.sum(), y, create_graph=True)[0]\n",
    "    dp_dy = torch.autograd.grad(p.sum(), y, create_graph=True)[0]\n",
    "\n",
    "    du_dxx = torch.autograd.grad(du_dx.sum(), x, create_graph=True)[0]\n",
    "    dv_dxx = torch.autograd.grad(dv_dx.sum(), x, create_graph=True)[0]\n",
    "    du_dyy = torch.autograd.grad(du_dy.sum(), y, create_graph=True)[0]\n",
    "    dv_dyy = torch.autograd.grad(dv_dy.sum(), y, create_graph=True)[0]\n",
    "\n",
    "    f1 = u*du_dx + v*du_dy + dp_dx - nu*(du_dxx + du_dyy)\n",
    "    f2 = u*dv_dx + v*dv_dy + dp_dy - nu*(dv_dxx + dv_dyy)\n",
    "    f3 = du_dx + dv_dy\n",
    "    f = f1 + f2 + f3\n",
    "    return f"
   ]
  },
  {
   "cell_type": "code",
   "execution_count": 8,
   "id": "2b4ee03a",
   "metadata": {},
   "outputs": [
    {
     "name": "stderr",
     "output_type": "stream",
     "text": [
      "C:\\Users\\ameyv\\anaconda3\\envs\\amey-pinn\\lib\\site-packages\\torch\\nn\\modules\\loss.py:536: UserWarning: Using a target size (torch.Size([2500, 3])) that is different to the input size (torch.Size([2500, 1])). This will likely lead to incorrect results due to broadcasting. Please ensure they have the same size.\n",
      "  return F.mse_loss(input, target, reduction=self.reduction)\n",
      "C:\\Users\\ameyv\\anaconda3\\envs\\amey-pinn\\lib\\site-packages\\torch\\autograd\\__init__.py:197: UserWarning: grad and param do not obey the gradient layout contract. This is not an error, but may impair performance.\n",
      "grad.sizes() = [2500, 1], strides() = [1, 0]\n",
      "param.sizes() = [2500, 1], strides() = [1, 0] (Triggered internally at C:\\cb\\pytorch_1000000000000\\work\\torch/csrc/autograd/functions/accumulate_grad.h:202.)\n",
      "  Variable._execution_engine.run_backward(  # Calls into the C++ engine to run the backward pass\n"
     ]
    },
    {
     "name": "stdout",
     "output_type": "stream",
     "text": [
      "Iter 0, Loss: 7.7150e-01, Loss_u: 7.7111e-01, Loss_f: 3.8978e-04\n",
      "Iter 100, Loss: 1.7266e-01, Loss_u: 1.7115e-01, Loss_f: 1.5121e-03\n",
      "Iter 200, Loss: 1.5420e-01, Loss_u: 1.5339e-01, Loss_f: 8.1347e-04\n",
      "Iter 300, Loss: 1.4760e-01, Loss_u: 1.4719e-01, Loss_f: 4.0790e-04\n",
      "Iter 400, Loss: 1.0925e-01, Loss_u: 1.0499e-01, Loss_f: 4.2624e-03\n",
      "Iter 500, Loss: 9.0605e-02, Loss_u: 9.0112e-02, Loss_f: 4.9289e-04\n",
      "Iter 600, Loss: 8.7863e-02, Loss_u: 8.7426e-02, Loss_f: 4.3670e-04\n",
      "Iter 700, Loss: 8.5396e-02, Loss_u: 8.4945e-02, Loss_f: 4.5190e-04\n",
      "Iter 800, Loss: 8.2366e-02, Loss_u: 8.1845e-02, Loss_f: 5.2052e-04\n",
      "Iter 900, Loss: 7.7898e-02, Loss_u: 7.7279e-02, Loss_f: 6.1918e-04\n",
      "Iter 1000, Loss: 7.1891e-02, Loss_u: 7.1273e-02, Loss_f: 6.1842e-04\n",
      "Iter 1100, Loss: 6.6526e-02, Loss_u: 6.5686e-02, Loss_f: 8.4081e-04\n",
      "Iter 1200, Loss: 5.6828e-02, Loss_u: 5.5461e-02, Loss_f: 1.3671e-03\n",
      "Iter 1300, Loss: 2.6475e-02, Loss_u: 2.4267e-02, Loss_f: 2.2076e-03\n",
      "Iter 1400, Loss: 5.2310e-03, Loss_u: 4.0958e-03, Loss_f: 1.1352e-03\n",
      "Iter 1500, Loss: 2.7351e-03, Loss_u: 2.0267e-03, Loss_f: 7.0847e-04\n",
      "Iter 1600, Loss: 2.0907e-03, Loss_u: 1.4352e-03, Loss_f: 6.5555e-04\n",
      "Iter 1700, Loss: 1.4692e-03, Loss_u: 1.2031e-03, Loss_f: 2.6603e-04\n",
      "Iter 1800, Loss: 1.2606e-03, Loss_u: 1.0334e-03, Loss_f: 2.2719e-04\n",
      "Iter 1900, Loss: 1.1982e-03, Loss_u: 9.1763e-04, Loss_f: 2.8056e-04\n",
      "Iter 2000, Loss: 9.3722e-04, Loss_u: 7.9182e-04, Loss_f: 1.4541e-04\n",
      "Iter 2100, Loss: 8.3427e-04, Loss_u: 7.0029e-04, Loss_f: 1.3399e-04\n",
      "Iter 2200, Loss: 7.6311e-04, Loss_u: 6.2303e-04, Loss_f: 1.4008e-04\n",
      "Iter 2300, Loss: 6.7748e-04, Loss_u: 5.6144e-04, Loss_f: 1.1604e-04\n",
      "Iter 2400, Loss: 6.2453e-04, Loss_u: 5.0884e-04, Loss_f: 1.1569e-04\n",
      "Iter 2500, Loss: 6.6837e-04, Loss_u: 4.7423e-04, Loss_f: 1.9414e-04\n",
      "Iter 2600, Loss: 5.2203e-04, Loss_u: 4.2721e-04, Loss_f: 9.4814e-05\n",
      "Iter 2700, Loss: 4.8245e-04, Loss_u: 3.9543e-04, Loss_f: 8.7021e-05\n",
      "Iter 2800, Loss: 4.4734e-04, Loss_u: 3.6824e-04, Loss_f: 7.9092e-05\n",
      "Iter 2900, Loss: 8.4052e-04, Loss_u: 3.6538e-04, Loss_f: 4.7513e-04\n",
      "Iter 3000, Loss: 5.7523e-04, Loss_u: 3.3454e-04, Loss_f: 2.4069e-04\n",
      "Iter 3100, Loss: 3.6996e-04, Loss_u: 3.0691e-04, Loss_f: 6.3053e-05\n",
      "Iter 3200, Loss: 5.1686e-04, Loss_u: 3.1101e-04, Loss_f: 2.0585e-04\n",
      "Iter 3300, Loss: 3.3556e-04, Loss_u: 2.7666e-04, Loss_f: 5.8895e-05\n",
      "Iter 3400, Loss: 3.1498e-04, Loss_u: 2.6268e-04, Loss_f: 5.2298e-05\n",
      "Iter 3500, Loss: 3.3123e-04, Loss_u: 2.5306e-04, Loss_f: 7.8165e-05\n",
      "Iter 3600, Loss: 2.8509e-04, Loss_u: 2.3870e-04, Loss_f: 4.6389e-05\n",
      "Iter 3700, Loss: 3.0906e-04, Loss_u: 2.2683e-04, Loss_f: 8.2227e-05\n",
      "Iter 3800, Loss: 2.6490e-04, Loss_u: 2.1734e-04, Loss_f: 4.7560e-05\n",
      "Iter 3900, Loss: 2.4877e-04, Loss_u: 2.0839e-04, Loss_f: 4.0383e-05\n",
      "Iter 4000, Loss: 1.0289e-03, Loss_u: 2.4070e-04, Loss_f: 7.8819e-04\n",
      "Iter 4100, Loss: 2.4264e-04, Loss_u: 1.9376e-04, Loss_f: 4.8883e-05\n",
      "Iter 4200, Loss: 2.1901e-04, Loss_u: 1.8371e-04, Loss_f: 3.5306e-05\n",
      "Iter 4300, Loss: 2.1120e-04, Loss_u: 1.7702e-04, Loss_f: 3.4177e-05\n",
      "Iter 4400, Loss: 3.8925e-04, Loss_u: 1.7826e-04, Loss_f: 2.1099e-04\n",
      "Iter 4500, Loss: 1.9498e-04, Loss_u: 1.6355e-04, Loss_f: 3.1432e-05\n",
      "Iter 4600, Loss: 1.8862e-04, Loss_u: 1.5788e-04, Loss_f: 3.0739e-05\n",
      "Iter 4700, Loss: 1.8291e-04, Loss_u: 1.5191e-04, Loss_f: 3.0997e-05\n",
      "Iter 4800, Loss: 4.2479e-04, Loss_u: 1.5827e-04, Loss_f: 2.6653e-04\n",
      "Iter 4900, Loss: 1.7011e-04, Loss_u: 1.4203e-04, Loss_f: 2.8079e-05\n",
      "Iter 5000, Loss: 1.7863e-04, Loss_u: 1.3718e-04, Loss_f: 4.1448e-05\n",
      "Iter 5100, Loss: 1.5964e-04, Loss_u: 1.3285e-04, Loss_f: 2.6792e-05\n",
      "Iter 5200, Loss: 1.5671e-04, Loss_u: 1.2899e-04, Loss_f: 2.7722e-05\n",
      "Iter 5300, Loss: 3.6070e-04, Loss_u: 1.2514e-04, Loss_f: 2.3555e-04\n",
      "Iter 5400, Loss: 1.4608e-04, Loss_u: 1.2126e-04, Loss_f: 2.4820e-05\n",
      "Iter 5500, Loss: 1.4407e-04, Loss_u: 1.1834e-04, Loss_f: 2.5737e-05\n",
      "Iter 5600, Loss: 2.1853e-04, Loss_u: 1.1603e-04, Loss_f: 1.0250e-04\n",
      "Iter 5700, Loss: 1.3488e-04, Loss_u: 1.1151e-04, Loss_f: 2.3368e-05\n",
      "Iter 5800, Loss: 4.3926e-04, Loss_u: 1.2008e-04, Loss_f: 3.1918e-04\n",
      "Iter 5900, Loss: 1.5482e-04, Loss_u: 1.0853e-04, Loss_f: 4.6286e-05\n",
      "Iter 6000, Loss: 1.2813e-04, Loss_u: 1.0317e-04, Loss_f: 2.4958e-05\n",
      "Iter 6100, Loss: 1.2313e-04, Loss_u: 1.0086e-04, Loss_f: 2.2270e-05\n",
      "Iter 6200, Loss: 1.1951e-04, Loss_u: 9.8431e-05, Loss_f: 2.1080e-05\n",
      "Iter 6300, Loss: 1.4349e-04, Loss_u: 9.7821e-05, Loss_f: 4.5665e-05\n",
      "Iter 6400, Loss: 1.2701e-04, Loss_u: 9.6679e-05, Loss_f: 3.0329e-05\n",
      "Iter 6500, Loss: 1.6101e-04, Loss_u: 9.3337e-05, Loss_f: 6.7674e-05\n",
      "Iter 6600, Loss: 5.7766e-04, Loss_u: 1.0466e-04, Loss_f: 4.7300e-04\n",
      "Iter 6700, Loss: 4.3160e-04, Loss_u: 1.2783e-04, Loss_f: 3.0377e-04\n",
      "Iter 6800, Loss: 1.1461e-04, Loss_u: 8.5308e-05, Loss_f: 2.9306e-05\n",
      "Iter 6900, Loss: 1.0428e-04, Loss_u: 8.4947e-05, Loss_f: 1.9334e-05\n",
      "Iter 7000, Loss: 1.0403e-04, Loss_u: 8.3338e-05, Loss_f: 2.0692e-05\n",
      "Iter 7100, Loss: 9.8889e-05, Loss_u: 8.1124e-05, Loss_f: 1.7765e-05\n",
      "Iter 7200, Loss: 1.1718e-04, Loss_u: 8.0588e-05, Loss_f: 3.6592e-05\n",
      "Iter 7300, Loss: 2.3786e-04, Loss_u: 1.0057e-04, Loss_f: 1.3729e-04\n",
      "Iter 7400, Loss: 1.5190e-04, Loss_u: 8.1247e-05, Loss_f: 7.0654e-05\n",
      "Iter 7500, Loss: 9.2336e-05, Loss_u: 7.5589e-05, Loss_f: 1.6747e-05\n",
      "Iter 7600, Loss: 9.0493e-05, Loss_u: 7.4048e-05, Loss_f: 1.6445e-05\n",
      "Iter 7700, Loss: 9.8584e-05, Loss_u: 7.5102e-05, Loss_f: 2.3482e-05\n",
      "Iter 7800, Loss: 9.1856e-05, Loss_u: 7.1186e-05, Loss_f: 2.0670e-05\n",
      "Iter 7900, Loss: 1.2151e-04, Loss_u: 7.2672e-05, Loss_f: 4.8842e-05\n",
      "Iter 8000, Loss: 8.4309e-05, Loss_u: 6.9388e-05, Loss_f: 1.4921e-05\n",
      "Iter 8100, Loss: 8.3366e-05, Loss_u: 6.8513e-05, Loss_f: 1.4853e-05\n",
      "Iter 8200, Loss: 8.1801e-05, Loss_u: 6.7275e-05, Loss_f: 1.4526e-05\n",
      "Iter 8300, Loss: 8.1000e-05, Loss_u: 6.6569e-05, Loss_f: 1.4431e-05\n",
      "Iter 8400, Loss: 2.7541e-04, Loss_u: 7.4686e-05, Loss_f: 2.0073e-04\n",
      "Iter 8500, Loss: 7.8186e-05, Loss_u: 6.4430e-05, Loss_f: 1.3756e-05\n",
      "Iter 8600, Loss: 8.2561e-05, Loss_u: 6.3474e-05, Loss_f: 1.9087e-05\n",
      "Iter 8700, Loss: 8.4044e-05, Loss_u: 6.4392e-05, Loss_f: 1.9652e-05\n",
      "Iter 8800, Loss: 1.5558e-04, Loss_u: 7.4431e-05, Loss_f: 8.1145e-05\n",
      "Iter 8900, Loss: 7.4333e-05, Loss_u: 6.1141e-05, Loss_f: 1.3192e-05\n",
      "Iter 9000, Loss: 7.6993e-05, Loss_u: 6.0760e-05, Loss_f: 1.6233e-05\n",
      "Iter 9100, Loss: 7.5041e-05, Loss_u: 5.9869e-05, Loss_f: 1.5171e-05\n",
      "Iter 9200, Loss: 7.0862e-05, Loss_u: 5.8613e-05, Loss_f: 1.2250e-05\n",
      "Iter 9300, Loss: 7.0511e-05, Loss_u: 5.7909e-05, Loss_f: 1.2602e-05\n",
      "Iter 9400, Loss: 7.0573e-05, Loss_u: 5.7588e-05, Loss_f: 1.2985e-05\n",
      "Iter 9500, Loss: 7.9418e-05, Loss_u: 5.6304e-05, Loss_f: 2.3114e-05\n",
      "Iter 9600, Loss: 6.9832e-04, Loss_u: 8.3563e-05, Loss_f: 6.1476e-04\n",
      "Iter 9700, Loss: 3.0909e-04, Loss_u: 6.7527e-05, Loss_f: 2.4156e-04\n",
      "Iter 9800, Loss: 7.0885e-05, Loss_u: 5.3991e-05, Loss_f: 1.6895e-05\n",
      "Iter 9900, Loss: 6.6253e-05, Loss_u: 5.4164e-05, Loss_f: 1.2089e-05\n"
     ]
    }
   ],
   "source": [
    "iterations = 10000\n",
    "for epoch in range(iterations):\n",
    "    optimizer.zero_grad()\n",
    "    \n",
    "    PINN_S_bc = pinn.forward(X_bc, Y_bc)\n",
    "    MSE_U = mse_cost_function(PINN_S_bc, S_bc)\n",
    "\n",
    "    PINN_Residual = residual(X, Y, pinn)\n",
    "    MSE_F = mse_cost_function(PINN_Residual, S)\n",
    "\n",
    "    Loss = MSE_U + MSE_F\n",
    "\n",
    "    Loss.backward()\n",
    "    optimizer.step()\n",
    "\n",
    "    with torch.autograd.no_grad():\n",
    "        if epoch%100 == 0:\n",
    "            print('Iter %d, Loss: %.4e, Loss_u: %.4e, Loss_f: %.4e' % (epoch, Loss, MSE_U, MSE_F))"
   ]
  },
  {
   "cell_type": "code",
   "execution_count": 9,
   "id": "50d965e9",
   "metadata": {},
   "outputs": [],
   "source": [
    "S = torch.zeros((N*N, 3))\n",
    "U = 1-(torch.exp(lamb*X))*(torch.cos(2*math.pi*Y))\n",
    "V = (lamb/(2*math.pi))*(torch.exp(lamb*X))*(torch.sin(2*math.pi*Y))\n",
    "P = (1/2)*(1-(torch.exp(2*lamb*X)))\n",
    "S[:,0:1] = torch.reshape(U, (U.shape[0],1))\n",
    "S[:,1:2] = torch.reshape(V, (V.shape[0],1))\n",
    "S[:,2:] = torch.reshape(P, (P.shape[0],1))"
   ]
  },
  {
   "cell_type": "code",
   "execution_count": 10,
   "id": "9e3b3b15",
   "metadata": {},
   "outputs": [
    {
     "name": "stdout",
     "output_type": "stream",
     "text": [
      "Relative L2 Error: 1.345344e-02\n"
     ]
    }
   ],
   "source": [
    "s_pred = pinn(X, Y)\n",
    "\n",
    "# Relative L2 Error\n",
    "error_s = torch.linalg.norm(S-s_pred,2)/torch.linalg.norm(S,2)\n",
    "print('Relative L2 Error: %e' % (error_s))"
   ]
  },
  {
   "cell_type": "code",
   "execution_count": 11,
   "id": "8a99415b",
   "metadata": {},
   "outputs": [],
   "source": [
    "u_test = torch.reshape(U, (N,N)).detach().numpy()\n",
    "v_test = torch.reshape(V, (N,N)).detach().numpy()\n",
    "p_test = torch.reshape(P, (N,N)).detach().numpy()\n",
    "u_pred = torch.reshape(s_pred[:,0], (N,N)).detach().numpy()\n",
    "v_pred = torch.reshape(s_pred[:,1], (N,N)).detach().numpy()\n",
    "p_pred = torch.reshape(s_pred[:,2], (N,N)).detach().numpy()"
   ]
  },
  {
   "cell_type": "code",
   "execution_count": 12,
   "id": "0f5f5d8c",
   "metadata": {},
   "outputs": [
    {
     "data": {
      "image/png": "[encoded data removed]",
      "text/plain": [
       "<Figure size 700x700 with 6 Axes>"
      ]
     },
     "metadata": {},
     "output_type": "display_data"
    }
   ],
   "source": [
    "fig, axs = plt.subplots(3, 2, figsize=(7, 7))\n",
    "axs[0, 0].imshow(u_test)\n",
    "axs[0, 0].set_title('analytical u')\n",
    "axs[1, 0].imshow(v_test)\n",
    "axs[1, 0].set_title('analytical v')\n",
    "axs[2, 0].imshow(p_test)\n",
    "axs[2, 0].set_title('analytical p')\n",
    "axs[0, 1].imshow(u_pred)\n",
    "axs[0, 1].set_title('learned u')\n",
    "axs[1, 1].imshow(v_pred)\n",
    "axs[1, 1].set_title('learned v')\n",
    "axs[2, 1].imshow(p_pred)\n",
    "axs[2, 1].set_title('learned p')\n",
    "fig.tight_layout()"
   ]
  },
  {
   "cell_type": "code",
   "execution_count": 13,
   "id": "1938d978",
   "metadata": {},
   "outputs": [
    {
     "name": "stdout",
     "output_type": "stream",
     "text": [
      "odict_keys(['layer1.weight', 'layer1.bias', 'layer2.weight', 'layer2.bias', 'layer3.weight', 'layer3.bias', 'layer4.weight', 'layer4.bias', 'layer5.weight', 'layer5.bias', 'output_layer.weight', 'output_layer.bias'])\n"
     ]
    }
   ],
   "source": [
    "params = pinn.state_dict()\n",
    "print(params.keys())"
   ]
  },
  {
   "cell_type": "code",
   "execution_count": 15,
   "id": "9abd2dc9",
   "metadata": {},
   "outputs": [],
   "source": [
    "flattened_weights = []\n",
    "for key in params.keys():\n",
    "    flattened_tensor = torch.reshape(params[key], (-1,)).tolist()\n",
    "    for val in flattened_tensor:\n",
    "        flattened_weights.append(val)\n",
    "weights_array = np.array(flattened_weights)\n",
    "np.savetxt('data/weights/weights_'+str(Re)+'.txt', weights_array)"
   ]
  }
 ],
 "metadata": {
  "kernelspec": {
   "display_name": "Python 3 (ipykernel)",
   "language": "python",
   "name": "python3"
  },
  "language_info": {
   "codemirror_mode": {
    "name": "ipython",
    "version": 3
   },
   "file_extension": ".py",
   "mimetype": "text/x-python",
   "name": "python",
   "nbconvert_exporter": "python",
   "pygments_lexer": "ipython3",
   "version": "3.10.9"
  }
 },
 "nbformat": 4,
 "nbformat_minor": 5
}
